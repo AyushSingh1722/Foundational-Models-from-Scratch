{
  "cells": [
    {
      "cell_type": "markdown",
      "metadata": {
        "application/vnd.databricks.v1+cell": {
          "cellMetadata": {},
          "inputWidgets": {},
          "nuid": "abd93b68-1abd-4db0-b57a-4562d2ad40b7",
          "showTitle": false,
          "title": ""
        },
        "id": "UPo4q8xlcnPC"
      },
      "source": [
        "# Lab: Diving into the Transformer - Utilizing embeddings from transformers\n",
        "\n",
        "In this lab, we will delve into the workings of the Transformer's encoder. We will build the components needed to create our encoder-based model and investigate the embeddings it produces. You will then be asked questions related to these embeddings, including comparisons, distance measurements, and the utilization of masked language modeling (MLM).\n",
        "\n",
        "### ![Dolly](https://files.training.databricks.com/images/llm/dolly_small.png) Learning Objectives\n",
        "1. Develop an encoder from scratch\n",
        "2. Investigating word embeddings (from our untrained models, and BERT)\n",
        "4. Gain practice in Masked Language Modeling (MLM)"
      ]
    },
    {
      "cell_type": "markdown",
      "metadata": {
        "application/vnd.databricks.v1+cell": {
          "cellMetadata": {},
          "inputWidgets": {},
          "nuid": "4ccddca6-cdce-4ab2-bd07-e7e5230aab8f",
          "showTitle": false,
          "title": ""
        },
        "id": "KjSh-chgcnPD"
      },
      "source": [
        "## Classroom Setup"
      ]
    },
    {
      "cell_type": "code",
      "execution_count": null,
      "metadata": {
        "application/vnd.databricks.v1+cell": {
          "cellMetadata": {
            "byteLimit": 2048000,
            "rowLimit": 10000
          },
          "inputWidgets": {},
          "nuid": "23ed4d15-ec63-4984-a76b-412f9bc3992b",
          "showTitle": false,
          "title": ""
        },
        "id": "ptoOa_s-cnPD",
        "outputId": "5f6e6e4e-13d3-43d6-8c2d-72425b86ffb3"
      },
      "outputs": [
        {
          "output_type": "stream",
          "name": "stdout",
          "text": [
            "\u001b[43mNote: you may need to restart the kernel using dbutils.library.restartPython() to use updated packages.\u001b[0m\n\u001b[43mNote: you may need to restart the kernel using dbutils.library.restartPython() to use updated packages.\u001b[0m\n"
          ]
        },
        {
          "output_type": "stream",
          "name": "stdout",
          "text": [
            "Resetting the learning environment:\n| enumerating serving endpoints...found 0...(0 seconds)\n| No action taken\n\nSkipping install of existing datasets to \"dbfs:/mnt/dbacademy-datasets/llm-foundation-models/v01-raw\"\n\nValidating the locally installed datasets:\n| listing local files...(3 seconds)\n| removing extra file: /models/models--bert-base-uncased/.no_exist/1dbc166cf8765166998eff31ade2eb64c8a40076/generation_config.json...(0 seconds)\n| fixed 1 issue...(3 seconds total)\n"
          ]
        },
        {
          "output_type": "stream",
          "name": "stdout",
          "text": [
            "Importing lab testing framework.\n"
          ]
        },
        {
          "output_type": "stream",
          "name": "stdout",
          "text": [
            "\nUsing the \"default\" schema.\n\nPredefined paths variables:\n| DA.paths.working_dir: /dbfs/mnt/dbacademy-users/labuser4687840@vocareum.com/llm-foundation-models\n| DA.paths.user_db:     dbfs:/mnt/dbacademy-users/labuser4687840@vocareum.com/llm-foundation-models/database.db\n| DA.paths.datasets:    /dbfs/mnt/dbacademy-datasets/llm-foundation-models/v01-raw\n\nSetup completed (16 seconds)\n\nThe models developed or used in this course are for demonstration and learning purposes only.\nModels may occasionally output offensive, inaccurate, biased information, or harmful instructions.\n"
          ]
        }
      ],
      "source": [
        "%run ../Includes/Classroom-Setup"
      ]
    },
    {
      "cell_type": "code",
      "execution_count": 1,
      "metadata": {
        "application/vnd.databricks.v1+cell": {
          "cellMetadata": {
            "byteLimit": 2048000,
            "rowLimit": 10000
          },
          "inputWidgets": {},
          "nuid": "e0621451-8469-46a8-8efb-907cb035e338",
          "showTitle": false,
          "title": ""
        },
        "id": "G8mswyGKcnPG"
      },
      "outputs": [],
      "source": [
        "# Import necessary libraries\n",
        "import torch\n",
        "import torch.nn as nn\n",
        "import torch.nn.functional as F\n",
        "import math"
      ]
    },
    {
      "cell_type": "markdown",
      "metadata": {
        "application/vnd.databricks.v1+cell": {
          "cellMetadata": {},
          "inputWidgets": {},
          "nuid": "5ae7fcec-9ba6-4fc4-a5ac-b0e41f4ec9b4",
          "showTitle": false,
          "title": ""
        },
        "id": "17jPKV07cnPG"
      },
      "source": [
        "# Section 1 - Building our own Encoder Transformer"
      ]
    },
    {
      "cell_type": "markdown",
      "metadata": {
        "application/vnd.databricks.v1+cell": {
          "cellMetadata": {},
          "inputWidgets": {},
          "nuid": "f6e28000-d4cf-4761-bb84-9d9d68381cdc",
          "showTitle": false,
          "title": ""
        },
        "id": "l6sAUXRUcnPH"
      },
      "source": [
        "### Define the Feed Forward Network\n",
        "\n",
        "We begin by defining the FeedForward class, which represents a simple feed-forward neural network with two linear layers separated by a ReLU activation function, and a dropout layer for regularization."
      ]
    },
    {
      "cell_type": "code",
      "execution_count": 2,
      "metadata": {
        "application/vnd.databricks.v1+cell": {
          "cellMetadata": {
            "byteLimit": 2048000,
            "rowLimit": 10000
          },
          "inputWidgets": {},
          "nuid": "6344e574-cc09-4227-9277-3decdbc6e7e3",
          "showTitle": false,
          "title": ""
        },
        "id": "Je4nMXl3cnPH"
      },
      "outputs": [],
      "source": [
        "class FeedForward(nn.Module):\n",
        "    def __init__(self, d_model, hidden_dim, dropout = 0.1):\n",
        "        super(FeedForward, self).__init__()\n",
        "        self.fc1 = nn.Linear(d_model, hidden_dim)\n",
        "        self.fc2 = nn.Linear(hidden_dim, d_model)\n",
        "        self.dropout = nn.Dropout(dropout)\n",
        "\n",
        "    def forward(self, x):\n",
        "        out = self.fc1(x)\n",
        "        out = F.relu(out)\n",
        "        out = self.dropout(out)\n",
        "        out = self.fc2(out)\n",
        "        return out\n"
      ]
    },
    {
      "cell_type": "markdown",
      "metadata": {
        "application/vnd.databricks.v1+cell": {
          "cellMetadata": {},
          "inputWidgets": {},
          "nuid": "65c94026-8a97-40c7-81ea-101947cc53a0",
          "showTitle": false,
          "title": ""
        },
        "id": "e34Qgz4hcnPH"
      },
      "source": [
        "### Define the Transformer Encoder Block\n",
        "\n",
        "The TransformerEncoderBlock class represents a single block of the transformer encoder, which consists of a multi-head self-attention layer and a feed-forward neural network, with layer normalization and residual connections applied to the outputs of each layer."
      ]
    },
    {
      "cell_type": "code",
      "execution_count": 3,
      "metadata": {
        "application/vnd.databricks.v1+cell": {
          "cellMetadata": {
            "byteLimit": 2048000,
            "rowLimit": 10000
          },
          "inputWidgets": {},
          "nuid": "c44b098f-fa19-4106-ab57-53b8a09610e0",
          "showTitle": false,
          "title": ""
        },
        "id": "Ap-xmQwAcnPI"
      },
      "outputs": [],
      "source": [
        "class TransformerEncoderBlock(nn.Module):\n",
        "    def __init__(self, d_model, num_heads, conv_hidden_dim, dropout=0.1):\n",
        "        super(TransformerEncoderBlock, self).__init__()\n",
        "        self.attention = nn.MultiheadAttention(d_model, num_heads, dropout=dropout)\n",
        "        self.norm1 = nn.LayerNorm(d_model)\n",
        "        self.norm2 = nn.LayerNorm(d_model)\n",
        "        self.feed_forward = FeedForward(d_model, conv_hidden_dim, dropout)\n",
        "        self.dropout = nn.Dropout(dropout)\n",
        "\n",
        "    def forward(self, x, mask=None):\n",
        "        # Multi-Head Attention\n",
        "        attn_output, _ = self.attention(x, x, x, attn_mask=mask)\n",
        "        x = x + self.dropout(attn_output)\n",
        "        x = self.norm1(x)\n",
        "\n",
        "        # Feed Forward Network\n",
        "        ff_output = self.feed_forward(x)\n",
        "        x = x + self.dropout(ff_output)\n",
        "        x = self.norm2(x)\n",
        "\n",
        "        return x\n"
      ]
    },
    {
      "cell_type": "markdown",
      "metadata": {
        "application/vnd.databricks.v1+cell": {
          "cellMetadata": {},
          "inputWidgets": {},
          "nuid": "5ebaab7d-53a6-445a-9437-ae4c4a63c28e",
          "showTitle": false,
          "title": ""
        },
        "id": "AGYd1GtqcnPI"
      },
      "source": [
        "### Define the Transformer Encoder\n",
        "\n",
        "The TransformerEncoder class represents the complete transformer encoder, which consists of a word embedding layer, a positional encoding layer, and a series of transformer encoder blocks."
      ]
    },
    {
      "cell_type": "code",
      "execution_count": 4,
      "metadata": {
        "application/vnd.databricks.v1+cell": {
          "cellMetadata": {
            "byteLimit": 2048000,
            "rowLimit": 10000
          },
          "inputWidgets": {},
          "nuid": "376f593b-d45b-4d08-b9d1-294732c1590f",
          "showTitle": false,
          "title": ""
        },
        "id": "1leONmZJcnPJ"
      },
      "outputs": [],
      "source": [
        "class TransformerEncoder(nn.Module):\n",
        "    def __init__(self, vocab_size, d_model, num_heads, conv_hidden_dim, num_layers, dropout=0.1):\n",
        "        super(TransformerEncoder, self).__init__()\n",
        "        self.word_embedding = nn.Embedding(vocab_size, d_model)\n",
        "        self.position_embedding = nn.Embedding(1000, d_model)  # Assuming a maximum sequence length of 1000\n",
        "        self.layers = nn.ModuleList(\n",
        "            [\n",
        "                TransformerEncoderBlock(d_model, num_heads, conv_hidden_dim, dropout)\n",
        "                for _ in range(num_layers)\n",
        "            ]\n",
        "        )\n",
        "\n",
        "    def forward(self, x, mask=None):\n",
        "        seq_length = x.shape[1]\n",
        "        positions = torch.arange(0, seq_length).expand(x.shape[0], seq_length).to(x.device)\n",
        "        out = self.word_embedding(x) + self.position_embedding(positions)\n",
        "\n",
        "        for layer in self.layers:\n",
        "            out = layer(out, mask)\n",
        "\n",
        "        return out\n"
      ]
    },
    {
      "cell_type": "markdown",
      "metadata": {
        "application/vnd.databricks.v1+cell": {
          "cellMetadata": {},
          "inputWidgets": {},
          "nuid": "a4c6e305-ed47-4778-956c-039df0a48f5f",
          "showTitle": false,
          "title": ""
        },
        "id": "zhDuDCP_cnPJ"
      },
      "source": [
        "### Instantiate the Model and Perform a Forward Pass\n",
        "\n",
        "We now instantiate the model with a specific set of hyperparameters, generate some random input data, and perform a forward pass through the model."
      ]
    },
    {
      "cell_type": "code",
      "execution_count": 6,
      "metadata": {
        "application/vnd.databricks.v1+cell": {
          "cellMetadata": {
            "byteLimit": 2048000,
            "rowLimit": 10000
          },
          "inputWidgets": {},
          "nuid": "9a92e3a9-c48e-4d94-9a89-fb5a19ce1d4a",
          "showTitle": false,
          "title": ""
        },
        "colab": {
          "base_uri": "https://localhost:8080/"
        },
        "id": "YGUqIaAWcnPJ",
        "outputId": "1a435f77-25ec-47c7-d628-5a3f8dd9e709"
      },
      "outputs": [
        {
          "output_type": "stream",
          "name": "stdout",
          "text": [
            "The model has 21,986,304 trainable parameters\n"
          ]
        }
      ],
      "source": [
        "# Assume the following hyperparameters\n",
        "vocab_size = 5000  # size of the vocabulary\n",
        "d_model = 512  # dimension of the word embedding\n",
        "num_heads = 8  # number of attention heads\n",
        "conv_hidden_dim = 2048  # dimension of the hidden layer in the feed-forward network\n",
        "num_layers = 6  # number of Transformer Encoder blocks\n",
        "dropout = 0.1  # dropout rate\n",
        "\n",
        "# Instantiate the model\n",
        "model = TransformerEncoder(vocab_size, d_model, num_heads, conv_hidden_dim, num_layers, dropout)\n",
        "\n",
        "# Generate some example input\n",
        "input_tensor = torch.randint(0, vocab_size, (1, 20))  # batch size of 1 and sequence length of 20\n",
        "\n",
        "# Forward pass through the model\n",
        "output = model(input_tensor, mask=None)\n",
        "\n",
        "\n",
        "\n",
        "print(f\"The model has {sum(p.numel() for p in model.parameters() if p.requires_grad):,} trainable parameters\")"
      ]
    },
    {
      "cell_type": "markdown",
      "metadata": {
        "application/vnd.databricks.v1+cell": {
          "cellMetadata": {},
          "inputWidgets": {},
          "nuid": "d513029f-ae62-4845-aa2b-c854c2cd1458",
          "showTitle": false,
          "title": ""
        },
        "id": "lrG3dojocnPK"
      },
      "source": [
        "### Investigate Word Embeddings\n",
        "\n",
        "We now generate some random input data and perform a forward pass through the model to obtain the embeddings for each word in the input."
      ]
    },
    {
      "cell_type": "code",
      "execution_count": null,
      "metadata": {
        "application/vnd.databricks.v1+cell": {
          "cellMetadata": {
            "byteLimit": 2048000,
            "rowLimit": 10000
          },
          "inputWidgets": {},
          "nuid": "16bb3499-f6f8-4d90-b6dc-c97651a94834",
          "showTitle": false,
          "title": ""
        },
        "id": "n5pGi8OEcnPK",
        "outputId": "8e402d3a-f7af-418a-e53c-b7096eb74ec1"
      },
      "outputs": [
        {
          "output_type": "stream",
          "name": "stdout",
          "text": [
            "tensor([[[ 0.4983,  1.1273, -0.8223,  ..., -1.4002,  0.0423,  1.3012],\n         [-0.7745,  0.5600, -0.0776,  ..., -1.6437,  0.3396,  0.8597],\n         [ 3.4673, -0.5028, -0.7713,  ..., -0.5815, -0.3697,  0.8740],\n         [ 1.2168,  0.4524, -0.2094,  ..., -1.4511, -0.3897,  1.5426],\n         [ 0.7592, -0.2261,  2.1304,  ..., -0.6925, -0.5482, -0.1173]]],\n       grad_fn=<NativeLayerNormBackward0>)\n"
          ]
        }
      ],
      "source": [
        "# Generate some example input\n",
        "input_tensor = torch.randint(0, vocab_size, (1, 5))  # batch size of 1 and sequence length of 5\n",
        "\n",
        "# Forward pass through the model\n",
        "embeddings = model(input_tensor, mask=None)\n",
        "\n",
        "# The `embeddings` tensor now contains the contextualized embeddings for each word in the input sequence\n",
        "print(embeddings)\n"
      ]
    },
    {
      "cell_type": "markdown",
      "metadata": {
        "application/vnd.databricks.v1+cell": {
          "cellMetadata": {},
          "inputWidgets": {},
          "nuid": "b35420dd-3469-4dde-a925-23456077d80f",
          "showTitle": false,
          "title": ""
        },
        "id": "Xytwujo9cnPL"
      },
      "source": [
        "### Define Vocabulary and Word-to-ID Mapping\n",
        "\n",
        "To interpret the input and output of our model, we define a vocabulary and a mapping from words to their corresponding IDs."
      ]
    },
    {
      "cell_type": "code",
      "execution_count": 8,
      "metadata": {
        "application/vnd.databricks.v1+cell": {
          "cellMetadata": {
            "byteLimit": 2048000,
            "rowLimit": 10000
          },
          "inputWidgets": {},
          "nuid": "ed751833-d566-45b8-b650-b57932063c3d",
          "showTitle": false,
          "title": ""
        },
        "colab": {
          "base_uri": "https://localhost:8080/"
        },
        "id": "04KQwEqGcnPL",
        "outputId": "a2b90ea8-8158-439d-9286-33548e4730f2"
      },
      "outputs": [
        {
          "output_type": "stream",
          "name": "stdout",
          "text": [
            "{'[PAD]': 0, '[UNK]': 1, '[CLS]': 2, '[SEP]': 3, '[MASK]': 4, 'the': 5, 'a': 6, 'an': 7, 'cat': 8, 'dog': 9, 'fish': 10, 'bird': 11, 'lion': 12, 'tiger': 13, 'elephant': 14, 'monkey': 15, 'runs': 16, 'jumps': 17, 'sleeps': 18, 'eats': 19, 'drinks': 20, 'fast': 21, 'slow': 22, 'big': 23, 'small': 24, 'red': 25, 'green': 26, 'blue': 27, 'yellow': 28, 'is': 29, 'was': 30, 'will': 31, 'can': 32, 'has': 33, 'have': 34, 'had': 35, 'do': 36, 'does': 37, 'I': 38, 'you': 39, 'he': 40, 'she': 41, 'it': 42, 'we': 43, 'they': 44, 'my': 45, 'your': 46, 'his': 47, 'her': 48, 'its': 49, 'our': 50, 'their': 51}\n"
          ]
        }
      ],
      "source": [
        "# Let's assume the following is our vocabulary\n",
        "vocabulary = [\n",
        "    \"[PAD]\", \"[UNK]\", \"[CLS]\", \"[SEP]\", \"[MASK]\",\n",
        "    \"the\", \"a\", \"an\",\n",
        "    \"cat\", \"dog\", \"fish\", \"bird\", \"lion\", \"tiger\", \"elephant\", \"monkey\",\n",
        "    \"runs\", \"jumps\", \"sleeps\", \"eats\", \"drinks\",\n",
        "    \"fast\", \"slow\", \"big\", \"small\", \"red\", \"green\", \"blue\", \"yellow\",\n",
        "    \"is\", \"was\", \"will\", \"can\", \"has\", \"have\", \"had\", \"do\", \"does\",\n",
        "    \"I\", \"you\", \"he\", \"she\", \"it\", \"we\", \"they\",\n",
        "    \"my\", \"your\", \"his\", \"her\", \"its\", \"our\", \"their\"\n",
        "]\n",
        "\n",
        "# Create a word2id dictionary\n",
        "word2id = {word: idx for idx, word in enumerate(vocabulary)}\n",
        "\n",
        "# Print the dictionary\n",
        "print(word2id)\n"
      ]
    },
    {
      "cell_type": "markdown",
      "metadata": {
        "application/vnd.databricks.v1+cell": {
          "cellMetadata": {},
          "inputWidgets": {},
          "nuid": "0c3247b7-83a8-44f0-bfd0-807b8b8dd8e7",
          "showTitle": false,
          "title": ""
        },
        "id": "g8A42YU6cnPL"
      },
      "source": [
        "### Measure Sentence Similarity\n",
        "\n",
        "We define a function to measure the cosine similarity between two sentences, which is done by averaging the embeddings of the words in each sentence and then calculating the cosine similarity between these average embeddings."
      ]
    },
    {
      "cell_type": "code",
      "execution_count": 9,
      "metadata": {
        "application/vnd.databricks.v1+cell": {
          "cellMetadata": {
            "byteLimit": 2048000,
            "rowLimit": 10000
          },
          "inputWidgets": {},
          "nuid": "1fe2ad35-6207-45eb-b5c0-cc8fb6d9de14",
          "showTitle": false,
          "title": ""
        },
        "colab": {
          "base_uri": "https://localhost:8080/"
        },
        "id": "Cj4ZJn-qcnPM",
        "outputId": "f4dc1af0-5ca5-48be-9b34-cabeb69cc96a"
      },
      "outputs": [
        {
          "output_type": "stream",
          "name": "stdout",
          "text": [
            "The cosine similarity between the sentences 'the cat has a blue fish' and 'my sister's dog sleeps' is 0.57.\n"
          ]
        }
      ],
      "source": [
        "# Define a simple function to calculate cosine similarity\n",
        "def cosine_similarity(vec1, vec2):\n",
        "    vec1 = vec1.squeeze()  # remove dimensions of size 1\n",
        "    vec2 = vec2.squeeze()  # remove dimensions of size 1\n",
        "    return torch.dot(vec1, vec2) / (torch.norm(vec1) * torch.norm(vec2))\n",
        "\n",
        "# Define a function to convert a sentence into embeddings\n",
        "def sentence_to_embeddings(sentence, model, word2id):\n",
        "    # Convert sentence to token ids\n",
        "    input_tensor = torch.tensor([word2id.get(word, word2id[\"[UNK]\"]) for word in sentence.split()], dtype=torch.long).unsqueeze(0)\n",
        "    embeddings = model(input_tensor, mask=None)\n",
        "    return embeddings\n",
        "\n",
        "# Define a function to compute the similarity between two sentences\n",
        "def sentence_similarity(sentence1, sentence2, model, word2id):\n",
        "    embeddings1 = sentence_to_embeddings(sentence1, model, word2id)\n",
        "    embeddings2 = sentence_to_embeddings(sentence2, model, word2id)\n",
        "\n",
        "    # Compute the average embeddings of each sentence\n",
        "    avg_embedding1 = torch.mean(embeddings1, dim=1)\n",
        "    avg_embedding2 = torch.mean(embeddings2, dim=1)\n",
        "\n",
        "    # Compute and return the cosine similarity\n",
        "    return cosine_similarity(avg_embedding1, avg_embedding2)\n",
        "\n",
        "# Now we can compute the similarity between two sentences\n",
        "sentence1 = \"the cat has a blue fish\"\n",
        "sentence2 = \"my sister's dog sleeps\"\n",
        "# Compute the similarity\n",
        "similarity = sentence_similarity(sentence1, sentence2, model, word2id)\n",
        "\n",
        "# Extract the value from the tensor and convert it to a Python float\n",
        "similarity_score = similarity.item()\n",
        "\n",
        "# Print the result with a descriptive sentence\n",
        "print(f\"The cosine similarity between the sentences '{sentence1}' and '{sentence2}' is {similarity_score:.2f}.\")"
      ]
    },
    {
      "cell_type": "markdown",
      "metadata": {
        "application/vnd.databricks.v1+cell": {
          "cellMetadata": {},
          "inputWidgets": {},
          "nuid": "76e59ace-7027-4f40-b5b1-245cde649980",
          "showTitle": false,
          "title": ""
        },
        "id": "xTnItCYbcnPM"
      },
      "source": [
        "### Visualize Word Embeddings\n",
        "\n",
        "We define a function to visualize the embeddings of a set of words in 2D space, which is done by using PCA to reduce the dimensionality of the embeddings to 2 and then plotting them."
      ]
    },
    {
      "cell_type": "code",
      "execution_count": 10,
      "metadata": {
        "application/vnd.databricks.v1+cell": {
          "cellMetadata": {
            "byteLimit": 2048000,
            "rowLimit": 10000
          },
          "inputWidgets": {},
          "nuid": "583c61b7-be6d-4c42-91f2-58533d1cc645",
          "showTitle": false,
          "title": ""
        },
        "colab": {
          "base_uri": "https://localhost:8080/",
          "height": 676
        },
        "id": "IjnreS8dcnPM",
        "outputId": "b62a2f2b-deae-434b-ff8d-b91d475c9e42"
      },
      "outputs": [
        {
          "output_type": "display_data",
          "data": {
            "text/plain": [
              "<Figure size 800x800 with 1 Axes>"
            ],
            "image/png": "[encoded data removed]"
          },
          "metadata": {}
        }
      ],
      "source": [
        "# Import necessary libraries\n",
        "import numpy as np\n",
        "from sklearn.decomposition import PCA\n",
        "import matplotlib.pyplot as plt\n",
        "\n",
        "# Define a list of words to plot\n",
        "words = [\n",
        "    # Animals\n",
        "    \"cat\", \"dog\", \"fish\", \"bird\", \"lion\", \"tiger\", \"elephant\", \"monkey\",\n",
        "    # Colors\n",
        "    \"red\", \"green\", \"blue\", \"yellow\", \"black\", \"white\", \"pink\", \"orange\",\n",
        "    # Verbs\n",
        "    \"run\", \"jump\", \"swim\", \"fly\", \"eat\", \"drink\", \"sleep\", \"play\"\n",
        "]\n",
        "# Create artificial embeddings for demonstration purposes\n",
        "embeddings = np.array([np.random.rand(512) for _ in words])  # 512 is the dimension of the embeddings\n",
        "\n",
        "# Use PCA to reduce the dimensionality of the embeddings to 2\n",
        "pca = PCA(n_components=2)\n",
        "embeddings_2d = pca.fit_transform(embeddings)\n",
        "\n",
        "# Plot the embeddings\n",
        "plt.figure(figsize=(8, 8))\n",
        "plt.scatter(embeddings_2d[:, 0], embeddings_2d[:, 1],s=500)\n",
        "for i, word in enumerate(words):\n",
        "    plt.annotate(word, xy=(embeddings_2d[i, 0], embeddings_2d[i, 1]))\n",
        "plt.show()\n",
        "\n"
      ]
    },
    {
      "cell_type": "markdown",
      "metadata": {
        "application/vnd.databricks.v1+cell": {
          "cellMetadata": {},
          "inputWidgets": {},
          "nuid": "76dbe0ed-3a2b-4b61-a2bb-d3c9dee79165",
          "showTitle": false,
          "title": ""
        },
        "id": "-TgohftccnPN"
      },
      "source": [
        "### Compare with Pre-Trained BERT Embeddings\n",
        "\n",
        "We load a pre-trained BERT model, generate embeddings for a set of words, and visualize them in the same way as before."
      ]
    },
    {
      "cell_type": "code",
      "execution_count": 12,
      "metadata": {
        "application/vnd.databricks.v1+cell": {
          "cellMetadata": {
            "byteLimit": 2048000,
            "rowLimit": 10000
          },
          "inputWidgets": {},
          "nuid": "c99d7928-0585-4a54-abc7-c15258d22c1f",
          "showTitle": false,
          "title": ""
        },
        "colab": {
          "base_uri": "https://localhost:8080/",
          "height": 836,
          "referenced_widgets": [
            "63d9cc773e4a4b2294c992c3ef929f5a",
            "acee1dd87a184e168ab91c3f88b93eff",
            "49c4f99f2ce843d7b68e0fa282aca965",
            "e5f9f40bcfe942c0adcaaab0fb12415d",
            "6673222ad7774c7ea2a99aeddcf547c2",
            "a8c4180223eb4226bde8ebe8d1127bd5",
            "0e3b4dd7554a4757a346f7dfca52337f",
            "5752da3df71b4000a0072bc4a0f56844",
            "1d1ae613926c4a7d83585b95e462a2fe",
            "3170dba11f4042f1a79d99d32739e60b",
            "8395e34416db43798ea12ae8725bc0ab",
            "8a321be746de46fd91cc4b6302a67d05",
            "bc9e5e3e38e8497c9879500cc7a84cb4",
            "2996eecab2704e76a7970b35299021da",
            "d8742589408841ee8054297f3ea48be5",
            "e06c44c41efd4080974537cdc333db15",
            "e82da206a8344fe89cdc133537acec24",
            "894cb358da084910a2c139220bab61e1",
            "1280ca1ac4844137ac3a0ad191c276ec",
            "7f5bad1a17164e8d895a3fcb755f4aed",
            "55bab34388084353b2fc43add32c4267",
            "5b28d7a06ae24f46965fc8b8cf97906d",
            "09d89f5995b74139b2e24fc4c9da6c1f",
            "1a24ec27393047b1b0fc0e49d127646a",
            "9c7e6cab04514ce7a3cae46f48641495",
            "eecf039c566044e0929a35022d41baa4",
            "6819b6e5e3a949e98cf97d6cf2ba0e27",
            "46f8020e0ded4232a007b46cacefc067",
            "76c2858c64534c5595c551d0328c4365",
            "7dd10ca05b4642d390f6596049a7a697",
            "9f087a91ec0c4032b52298d76efe3c40",
            "bf7bc889cb4d4ad4a0f4104dae8c0c01",
            "9910d1fffa91411a9ce3e0f918c083ff",
            "56939be0ffa444cfbaa7a08243d220a6",
            "05efa34f00f243aa8089912bed87cee0",
            "a19fd781aac645af8c5c9d6b4712ccd4",
            "499f05b8c2f24b39983c4c1782432c22",
            "fa6f416b9ca8410792da1fdd64644b2c",
            "599ff944e74e477a8746c2051b7fca34",
            "010248f9e9cc4e4093a67b374281de82",
            "e5bf86f1f7a540c1999e043b375aa6f6",
            "1257a4ae04b1405ebe9d19ed68465da4",
            "f451ede2473e4382a2273bb96425a671",
            "76075ee7356546ad84f2d6f985413e80",
            "447730e21bca4b5ebacb7f8eb340a5cd",
            "3d42ce4e85b44b38b84fbb16e8a63e4f",
            "bc7371290d4144858b687ef002f2a595",
            "31c396d1b81546f58ca6caf2bfbbf93c",
            "3b235c84bb8e4c1fbf449e064f5b2037",
            "fb4cb4b0ed5e4359a5ac39cda7755115",
            "b1a6a8fb12d3498c8ec9c92f2ced6d96",
            "2e6dbf829624476ead670f784de8f775",
            "b5c56c98a86f4e038c45b75153ff8afb",
            "4e89bbcbcc914fd9b127a254b8e73ac3",
            "6f4d33b2a1374fd29f4dfafdd00206a2"
          ]
        },
        "id": "shg-Ymk0cnPN",
        "outputId": "a2cf77fb-6bcd-4a69-a977-1cf8ba60b7d0"
      },
      "outputs": [
        {
          "output_type": "display_data",
          "data": {
            "text/plain": [
              "config.json:   0%|          | 0.00/570 [00:00<?, ?B/s]"
            ],
            "application/vnd.jupyter.widget-view+json": {
              "version_major": 2,
              "version_minor": 0,
              "model_id": "63d9cc773e4a4b2294c992c3ef929f5a"
            }
          },
          "metadata": {}
        },
        {
          "output_type": "display_data",
          "data": {
            "text/plain": [
              "model.safetensors:   0%|          | 0.00/440M [00:00<?, ?B/s]"
            ],
            "application/vnd.jupyter.widget-view+json": {
              "version_major": 2,
              "version_minor": 0,
              "model_id": "8a321be746de46fd91cc4b6302a67d05"
            }
          },
          "metadata": {}
        },
        {
          "output_type": "display_data",
          "data": {
            "text/plain": [
              "tokenizer_config.json:   0%|          | 0.00/28.0 [00:00<?, ?B/s]"
            ],
            "application/vnd.jupyter.widget-view+json": {
              "version_major": 2,
              "version_minor": 0,
              "model_id": "09d89f5995b74139b2e24fc4c9da6c1f"
            }
          },
          "metadata": {}
        },
        {
          "output_type": "display_data",
          "data": {
            "text/plain": [
              "vocab.txt:   0%|          | 0.00/232k [00:00<?, ?B/s]"
            ],
            "application/vnd.jupyter.widget-view+json": {
              "version_major": 2,
              "version_minor": 0,
              "model_id": "56939be0ffa444cfbaa7a08243d220a6"
            }
          },
          "metadata": {}
        },
        {
          "output_type": "display_data",
          "data": {
            "text/plain": [
              "tokenizer.json:   0%|          | 0.00/466k [00:00<?, ?B/s]"
            ],
            "application/vnd.jupyter.widget-view+json": {
              "version_major": 2,
              "version_minor": 0,
              "model_id": "447730e21bca4b5ebacb7f8eb340a5cd"
            }
          },
          "metadata": {}
        },
        {
          "output_type": "display_data",
          "data": {
            "text/plain": [
              "<Figure size 800x800 with 1 Axes>"
            ],
            "image/png": "[encoded data removed]"
          },
          "metadata": {}
        }
      ],
      "source": [
        "# Import necessary libraries\n",
        "from transformers import BertModel, BertTokenizer\n",
        "import torch\n",
        "import numpy as np\n",
        "from sklearn.decomposition import PCA\n",
        "import matplotlib.pyplot as plt\n",
        "\n",
        "# Load pre-trained BERT model and tokenizer\n",
        "model_name = \"bert-base-uncased\"\n",
        "model_bert = BertModel.from_pretrained(model_name)\n",
        "tokenizer = BertTokenizer.from_pretrained(model_name)\n",
        "\n",
        "# Define a list of words to plot\n",
        "words = [\n",
        "    # Animals\n",
        "    \"cat\", \"dog\", \"fish\", \"bird\", \"lion\", \"tiger\", \"elephant\", \"monkey\",\n",
        "    # Colors\n",
        "    \"red\", \"green\", \"blue\", \"yellow\", \"black\", \"white\", \"pink\", \"orange\",\n",
        "    # Verbs\n",
        "    \"run\", \"jump\", \"swim\", \"fly\", \"eat\", \"drink\", \"sleep\", \"play\"\n",
        "]\n",
        "# Get the embeddings of the words\n",
        "embeddings = []\n",
        "for word in words:\n",
        "    inputs = tokenizer(word, return_tensors=\"pt\")\n",
        "    with torch.no_grad():\n",
        "        outputs = model_bert(**inputs)\n",
        "    embeddings.append(outputs.last_hidden_state[0, 0, :].numpy())\n",
        "\n",
        "# Use PCA to reduce the dimensionality of the embeddings to 2\n",
        "pca = PCA(n_components=2)\n",
        "embeddings_2d = pca.fit_transform(embeddings)\n",
        "\n",
        "# Plot the embeddings\n",
        "plt.figure(figsize=(8, 8))\n",
        "plt.scatter(embeddings_2d[:, 0], embeddings_2d[:, 1],s=500)\n",
        "for i, word in enumerate(words):\n",
        "    plt.annotate(word, xy=(embeddings_2d[i, 0], embeddings_2d[i, 1]))\n",
        "plt.show()"
      ]
    },
    {
      "cell_type": "markdown",
      "metadata": {
        "application/vnd.databricks.v1+cell": {
          "cellMetadata": {},
          "inputWidgets": {},
          "nuid": "6a176906-dd5b-4b51-b2b0-56f35046cd03",
          "showTitle": false,
          "title": ""
        },
        "id": "3ZwhSis5cnPN"
      },
      "source": [
        "# Section 1 - Questions\n",
        "\n",
        "Having built our transformer encoder and inspected the embeddings it produces, we can now explore some questions related to these embeddings.\n",
        "\n",
        "**Question 1:**\n",
        "How does changing different hyperparameters (e.g., the dimension of the word embeddings, the number of attention heads, the dimension of the hidden layer in the feed-forward network, the number of encoder blocks, and the dropout rate) affect the overall size of the model?"
      ]
    },
    {
      "cell_type": "code",
      "execution_count": 13,
      "metadata": {
        "application/vnd.databricks.v1+cell": {
          "cellMetadata": {
            "byteLimit": 2048000,
            "rowLimit": 10000
          },
          "inputWidgets": {},
          "nuid": "fe1e895a-92dd-40a9-9918-55be91ca0d89",
          "showTitle": false,
          "title": ""
        },
        "id": "sWwn1BwjcnPO"
      },
      "outputs": [],
      "source": [
        "def count_parameters(model):\n",
        "    return sum(p.numel() for p in model.parameters() if p.requires_grad)"
      ]
    },
    {
      "cell_type": "code",
      "execution_count": 14,
      "metadata": {
        "application/vnd.databricks.v1+cell": {
          "cellMetadata": {
            "byteLimit": 2048000,
            "rowLimit": 10000
          },
          "inputWidgets": {},
          "nuid": "fa5d0017-4c04-454e-bd0e-ff10a41e5ccd",
          "showTitle": false,
          "title": ""
        },
        "colab": {
          "base_uri": "https://localhost:8080/"
        },
        "id": "RLBEW6CJcnPR",
        "outputId": "caf9a1ea-b5cd-47bb-9360-d366d1ab71d7"
      },
      "outputs": [
        {
          "output_type": "stream",
          "name": "stdout",
          "text": [
            "The model has 105,477,120 trainable parameters, compared to the 21,986,304 of the original model\n"
          ]
        }
      ],
      "source": [
        "# TODO\n",
        "# Use different parameters to see the effects on the overall model size.\n",
        "# Create a Transformer Encoder with different hyperparameters\n",
        "\n",
        "# Assume the following hyperparameters\n",
        "vocab_size = 1000  # size of the vocabulary\n",
        "d_model = 768  # dimension of the word embedding\n",
        "num_heads = 12  # number of attention heads\n",
        "conv_hidden_dim = 2048*2  # dimension of the hidden layer in the feed-forward network\n",
        "num_layers = 6*2 # number of Transformer Encoder blocks\n",
        "dropout = 0.1*2  # dropout rate\n",
        "\n",
        "new_model = TransformerEncoder(vocab_size, d_model, num_heads, conv_hidden_dim, num_layers, dropout)\n",
        "print(f\"The model has {count_parameters(new_model):,} trainable parameters, compared to the 21,986,304 of the original model\")"
      ]
    },
    {
      "cell_type": "code",
      "execution_count": null,
      "metadata": {
        "application/vnd.databricks.v1+cell": {
          "cellMetadata": {
            "byteLimit": 2048000,
            "rowLimit": 10000
          },
          "inputWidgets": {},
          "nuid": "5d22d292-dfd6-4a74-a8d9-c8edae4e4e1b",
          "showTitle": false,
          "title": ""
        },
        "id": "CwA0W52rcnPS",
        "outputId": "c179b5fc-46f1-4a17-ec86-f085c7ac4525"
      },
      "outputs": [
        {
          "output_type": "stream",
          "name": "stdout",
          "text": [
            "\u001b[32mPASSED\u001b[0m: All tests passed for lesson1, question1\n\u001b[32mRESULTS RECORDED\u001b[0m: Click `Submit` when all questions are completed to log the results.\n"
          ]
        }
      ],
      "source": [
        "# Test your answer. DO NOT MODIFY THIS CELL.\n",
        "\n",
        "dbTestQuestion1_1(new_model)"
      ]
    },
    {
      "cell_type": "markdown",
      "metadata": {
        "application/vnd.databricks.v1+cell": {
          "cellMetadata": {},
          "inputWidgets": {},
          "nuid": "d7db40b8-41c8-4766-9d1b-db03c219c040",
          "showTitle": false,
          "title": ""
        },
        "id": "NPY-uPnNcnPT"
      },
      "source": [
        "**Question 2:**\n",
        "Visualize the embeddings of a different set of words. Try choosing a set of words that are related in some way, such as words related to a particular topic or words that are all of a certain type (e.g., all verbs or all nouns)."
      ]
    },
    {
      "cell_type": "code",
      "execution_count": 15,
      "metadata": {
        "application/vnd.databricks.v1+cell": {
          "cellMetadata": {
            "byteLimit": 2048000,
            "rowLimit": 10000
          },
          "inputWidgets": {},
          "nuid": "792d86cf-cb6b-486b-99bc-a03fbfb23fca",
          "showTitle": false,
          "title": ""
        },
        "colab": {
          "base_uri": "https://localhost:8080/",
          "height": 676
        },
        "id": "MF0gr4micnPT",
        "outputId": "e746f296-862f-4d78-eb02-579b70058150"
      },
      "outputs": [
        {
          "output_type": "display_data",
          "data": {
            "text/plain": [
              "<Figure size 800x800 with 1 Axes>"
            ],
            "image/png": "[encoded data removed]"
          },
          "metadata": {}
        }
      ],
      "source": [
        "# TODO\n",
        "words = [\n",
        "    # Nouns\n",
        "    \"tree\", \"book\", \"mountain\", \"friend\", \"city\", \"computer\", \"song\", \"ocean\",\n",
        "    # Pronouns\n",
        "    \"he\", \"she\", \"it\", \"they\", \"we\", \"you\", \"I\", \"me\",\n",
        "    # Animals\n",
        "    \"cat\", \"dog\", \"elephant\", \"giraffe\", \"snake\", \"dolphin\", \"penguin\", \"koala\",\n",
        "    # Colors\n",
        "    \"red\", \"green\", \"blue\", \"yellow\", \"purple\", \"brown\", \"gray\", \"teal\",\n",
        "    # Verbs\n",
        "    \"run\", \"read\", \"climb\", \"talk\", \"sing\", \"swim\", \"explore\", \"build\"\n",
        "]\n",
        "\n",
        "\n",
        "# Get the embeddings of the words\n",
        "embeddings = []\n",
        "for word in words:\n",
        "    inputs = tokenizer(word, return_tensors='pt')\n",
        "    with torch.no_grad():\n",
        "        outputs = model_bert(**inputs)\n",
        "    embeddings.append(outputs.last_hidden_state[0, 0, :].numpy())\n",
        "\n",
        "# Use PCA to reduce the dimensionality of the embeddings to 2\n",
        "pca = PCA(n_components=2)\n",
        "embeddings_2d = pca.fit_transform(embeddings)\n",
        "\n",
        "# Plot the embeddings\n",
        "plt.figure(figsize=(8, 8))\n",
        "plt.scatter(embeddings_2d[:, 0], embeddings_2d[:, 1],s=500)\n",
        "for i, word in enumerate(words):\n",
        "    plt.annotate(word, xy=(embeddings_2d[i, 0], embeddings_2d[i, 1]))\n",
        "plt.show()"
      ]
    },
    {
      "cell_type": "code",
      "execution_count": null,
      "metadata": {
        "application/vnd.databricks.v1+cell": {
          "cellMetadata": {
            "byteLimit": 2048000,
            "rowLimit": 10000
          },
          "inputWidgets": {},
          "nuid": "dc137ccf-8590-49ad-ab70-03d0e9fdbebc",
          "showTitle": false,
          "title": ""
        },
        "id": "z87Fbx0ecnPT",
        "outputId": "0d527ec3-d4be-4d50-9c0a-ab4e41bf71aa"
      },
      "outputs": [
        {
          "output_type": "stream",
          "name": "stdout",
          "text": [
            "\u001b[32mPASSED\u001b[0m: All tests passed for lesson1, question2\n\u001b[32mRESULTS RECORDED\u001b[0m: Click `Submit` when all questions are completed to log the results.\n"
          ]
        }
      ],
      "source": [
        "# Test your answer. DO NOT MODIFY THIS CELL.\n",
        "\n",
        "dbTestQuestion1_2(words)"
      ]
    },
    {
      "cell_type": "markdown",
      "metadata": {
        "application/vnd.databricks.v1+cell": {
          "cellMetadata": {},
          "inputWidgets": {},
          "nuid": "f1929065-3ae0-44c5-a427-dc87c4bb5ece",
          "showTitle": false,
          "title": ""
        },
        "id": "udGD3UFCcnPU"
      },
      "source": [
        "**Question 3:**\n",
        "Compute the cosine similarity between the embeddings of a sentence and its scrambled version. For example, compare the sentence \"the cat chased the dog\" with \"dog the chased cat the\". What do you observe?"
      ]
    },
    {
      "cell_type": "code",
      "execution_count": null,
      "metadata": {
        "application/vnd.databricks.v1+cell": {
          "cellMetadata": {
            "byteLimit": 2048000,
            "rowLimit": 10000
          },
          "inputWidgets": {},
          "nuid": "7cbd18d2-1620-4b68-86e0-579ff808eb0f",
          "showTitle": false,
          "title": ""
        },
        "id": "gxo1baWxcnPU",
        "outputId": "a4fc96e9-f1b4-4721-c9ea-627b17c78ff9"
      },
      "outputs": [
        {
          "output_type": "stream",
          "name": "stdout",
          "text": [
            "Cosine similarity between original and scrambled sentence embeddings: 0.7937123775482178\n"
          ]
        }
      ],
      "source": [
        "# TODO\n",
        "# Define a sentence and its scrambled version\n",
        "sentence_q3 = \"the cat chased the dog\"\n",
        "scrambled_sentence_q3 = \"dog the chased cat the\"\n",
        "\n",
        "# Compute embeddings and cosine similarity\n",
        "original_embedding = sentence_to_embeddings(sentence_q3, model, word2id)\n",
        "scrambled_embedding = sentence_to_embeddings(scrambled_sentence_q3, model, word2id)\n",
        "\n",
        "# Compute the average embeddings of each sentence\n",
        "avg_embedding_original = torch.mean(original_embedding, dim=1)\n",
        "avg_embedding_scrambled = torch.mean(scrambled_embedding, dim=1)\n",
        "\n",
        "similarity = cosine_similarity(avg_embedding_original, avg_embedding_scrambled)\n",
        "print(\"Cosine similarity between original and scrambled sentence embeddings:\", similarity.item())"
      ]
    },
    {
      "cell_type": "code",
      "execution_count": null,
      "metadata": {
        "application/vnd.databricks.v1+cell": {
          "cellMetadata": {
            "byteLimit": 2048000,
            "rowLimit": 10000
          },
          "inputWidgets": {},
          "nuid": "58c9749d-fa76-459e-98f0-7f5a0dc478ea",
          "showTitle": false,
          "title": ""
        },
        "id": "GamvWvGPcnPU",
        "outputId": "ea0a961a-86fb-473a-de78-2afafb9cefc8"
      },
      "outputs": [
        {
          "output_type": "stream",
          "name": "stdout",
          "text": [
            "\u001b[32mPASSED\u001b[0m: All tests passed for lesson1, question3\n\u001b[32mRESULTS RECORDED\u001b[0m: Click `Submit` when all questions are completed to log the results.\n"
          ]
        }
      ],
      "source": [
        "# Test your answer. DO NOT MODIFY THIS CELL.\n",
        "\n",
        "dbTestQuestion1_3(sentence_q3, scrambled_sentence_q3)"
      ]
    },
    {
      "cell_type": "markdown",
      "metadata": {
        "application/vnd.databricks.v1+cell": {
          "cellMetadata": {},
          "inputWidgets": {},
          "nuid": "d68cc406-3946-4386-b4bf-977654678dd2",
          "showTitle": false,
          "title": ""
        },
        "id": "8Rqe1wWccnPV"
      },
      "source": [
        "**Question 4:**\n",
        "Compute the cosine similarity between the embeddings of a word used in two different contexts. For example, try the word `bank`, \"he needs to bank the money\" vs. \"he is going to the bank of the river\". What do you observe?"
      ]
    },
    {
      "cell_type": "code",
      "execution_count": null,
      "metadata": {
        "application/vnd.databricks.v1+cell": {
          "cellMetadata": {
            "byteLimit": 2048000,
            "rowLimit": 10000
          },
          "inputWidgets": {},
          "nuid": "811501df-b15a-4693-8d94-3702f4997b04",
          "showTitle": false,
          "title": ""
        },
        "id": "EVmNLy3FcnPV",
        "outputId": "1c0fbe03-b258-40a9-e206-721680140fcd"
      },
      "outputs": [
        {
          "output_type": "stream",
          "name": "stdout",
          "text": [
            "Cosine similarity between embeddings of the word 'bank' in two different contexts: 0.840680718421936\n"
          ]
        }
      ],
      "source": [
        "# TODO\n",
        "# Define two sentences where a word has different meanings\n",
        "sentence_q4a = \"he needs to bank the money\"\n",
        "sentence_q4b = \"he is going to the bank of the river\"\n",
        "# Compute embeddings and cosine similarity\n",
        "embedding1 = sentence_to_embeddings(sentence_q4a, model, word2id)\n",
        "embedding2 = sentence_to_embeddings(sentence_q4b, model, word2id)\n",
        "\n",
        "# Compute the average embeddings of each sentence\n",
        "avg_embedding1 = torch.mean(embedding1, dim=1)\n",
        "avg_embedding2 = torch.mean(embedding2, dim=1)\n",
        "\n",
        "similarity = cosine_similarity(avg_embedding1, avg_embedding2)\n",
        "print(f\"Cosine similarity between embeddings of the word 'bank' in two different contexts: {similarity.item()}\")"
      ]
    },
    {
      "cell_type": "markdown",
      "source": [
        "**Observation:** A high cosine similarity suggests that the word 'bank' has similar representations in the embeddings for both contexts. In the context of natural language processing and word embeddings, a high similarity indicates that the word is being used in similar ways in the two sentences. This suggests that, based on the embeddings, the model sees a semantic similarity between the two usages of the word 'bank' in the given sentences. In other words, the model is capturing some level of semantic relatedness between the different meanings of the word 'bank' in these contexts."
      ],
      "metadata": {
        "id": "PT_nYS3geDkF"
      }
    },
    {
      "cell_type": "code",
      "execution_count": null,
      "metadata": {
        "application/vnd.databricks.v1+cell": {
          "cellMetadata": {
            "byteLimit": 2048000,
            "rowLimit": 10000
          },
          "inputWidgets": {},
          "nuid": "4088a106-a1ff-4c93-afa7-f0187cae78fb",
          "showTitle": false,
          "title": ""
        },
        "id": "36ivm0BIcnPV",
        "outputId": "56425292-bc8d-4f98-80e0-8c03f9827e04"
      },
      "outputs": [
        {
          "output_type": "stream",
          "name": "stdout",
          "text": [
            "\u001b[32mPASSED\u001b[0m: All tests passed for lesson1, question4\n\u001b[32mRESULTS RECORDED\u001b[0m: Click `Submit` when all questions are completed to log the results.\n"
          ]
        }
      ],
      "source": [
        "# Test your answer. DO NOT MODIFY THIS CELL.\n",
        "\n",
        "dbTestQuestion1_4(sentence_q4a, sentence_q4b)"
      ]
    },
    {
      "cell_type": "markdown",
      "metadata": {
        "application/vnd.databricks.v1+cell": {
          "cellMetadata": {},
          "inputWidgets": {},
          "nuid": "b06585b4-7cf0-4948-aa29-bc52cf5306bc",
          "showTitle": false,
          "title": ""
        },
        "id": "o-_B4IArcnPW"
      },
      "source": [
        "# Section 2 - Masked Language Modeling (MLM) with BERT\n",
        "\n",
        "One of the training tasks for BERT is Masked Language Modeling (MLM). In MLM, some percentage of the input tokens are masked at random, and the objective is to predict the original vocabulary id of the masked word based only on its context. Unlike traditional language modeling, MLM is not a sequential task because BERT uses the entire context (left and right of the mask) to predict the masked word. This allows BERT to pre-train a deep bidirectional representation in a straightforward way, which is difficult in standard language modeling."
      ]
    },
    {
      "cell_type": "markdown",
      "metadata": {
        "application/vnd.databricks.v1+cell": {
          "cellMetadata": {},
          "inputWidgets": {},
          "nuid": "7748d579-885d-4f9c-ac17-764c6f00662a",
          "showTitle": false,
          "title": ""
        },
        "id": "Dp2LxdmncnPW"
      },
      "source": [
        "### Masked Language Modeling with BERT\n",
        "\n",
        "We load a pre-trained BERT model that has been fine-tuned for the masked language modeling (MLM) task. We then define a function to predict the word that should fill a `[MASK]` token in a sentence."
      ]
    },
    {
      "cell_type": "code",
      "execution_count": 17,
      "metadata": {
        "application/vnd.databricks.v1+cell": {
          "cellMetadata": {
            "byteLimit": 2048000,
            "rowLimit": 10000
          },
          "inputWidgets": {},
          "nuid": "1724c5c0-f350-4d26-9a73-72d0ef76bf3f",
          "showTitle": false,
          "title": ""
        },
        "colab": {
          "base_uri": "https://localhost:8080/"
        },
        "id": "qWtI8lAacnPp",
        "outputId": "6a95cc53-0cb2-4eff-b7ff-ce53fef32bac"
      },
      "outputs": [
        {
          "output_type": "stream",
          "name": "stderr",
          "text": [
            "Some weights of the model checkpoint at bert-base-uncased were not used when initializing BertForMaskedLM: ['cls.seq_relationship.bias', 'bert.pooler.dense.weight', 'bert.pooler.dense.bias', 'cls.seq_relationship.weight']\n",
            "- This IS expected if you are initializing BertForMaskedLM from the checkpoint of a model trained on another task or with another architecture (e.g. initializing a BertForSequenceClassification model from a BertForPreTraining model).\n",
            "- This IS NOT expected if you are initializing BertForMaskedLM from the checkpoint of a model that you expect to be exactly identical (initializing a BertForSequenceClassification model from a BertForSequenceClassification model).\n"
          ]
        },
        {
          "output_type": "stream",
          "name": "stdout",
          "text": [
            ". i love to play the ball . i\n"
          ]
        }
      ],
      "source": [
        "# Import the necessary libraries\n",
        "from transformers import BertTokenizer, BertForMaskedLM\n",
        "\n",
        "# Load pre-trained model and tokenizer\n",
        "tokenizer = BertTokenizer.from_pretrained(\"bert-base-uncased\")\n",
        "mlm_model = BertForMaskedLM.from_pretrained(\"bert-base-uncased\")\n",
        "\n",
        "# Define a function to predict masked words\n",
        "def predict_masked_words(sentence, model, tokenizer):\n",
        "    inputs = tokenizer(sentence, return_tensors=\"pt\")\n",
        "    with torch.no_grad():\n",
        "        outputs = model(**inputs)\n",
        "    predicted_token_ids = outputs.logits.argmax(dim=-1)\n",
        "    predicted_tokens = tokenizer.convert_ids_to_tokens(predicted_token_ids[0])\n",
        "    return \" \".join(predicted_tokens)\n",
        "\n",
        "# Define a sentence with a masked word\n",
        "sentence = \"I love to play [MASK] ball.\"\n",
        "print(predict_masked_words(sentence, mlm_model, tokenizer))"
      ]
    },
    {
      "cell_type": "markdown",
      "metadata": {
        "application/vnd.databricks.v1+cell": {
          "cellMetadata": {},
          "inputWidgets": {},
          "nuid": "a4cd611d-9530-4715-8c99-3ce782749e4c",
          "showTitle": false,
          "title": ""
        },
        "id": "Gruz6ELmcnPq"
      },
      "source": [
        "### Predict Different Masked Words\n",
        "\n",
        "We define different sentences with masked words and use our model to predict what these masked words should be."
      ]
    },
    {
      "cell_type": "code",
      "execution_count": 18,
      "metadata": {
        "application/vnd.databricks.v1+cell": {
          "cellMetadata": {
            "byteLimit": 2048000,
            "rowLimit": 10000
          },
          "inputWidgets": {},
          "nuid": "3fa163da-f679-4ab0-859b-27fb57c0bfff",
          "showTitle": false,
          "title": ""
        },
        "colab": {
          "base_uri": "https://localhost:8080/"
        },
        "id": "ZpO1Sf5JcnPq",
        "outputId": "46c1837b-dd02-4e4e-cbd7-50024614fa93"
      },
      "outputs": [
        {
          "output_type": "stream",
          "name": "stdout",
          "text": [
            ". the weather today is warm . .\n",
            ". i like to eat it for breakfast . i\n",
            ". she is a beautiful woman . .\n",
            ". he drives a sports car . .\n",
            ". they are going to the hospital . .\n"
          ]
        }
      ],
      "source": [
        "# Define different sentences with masked words\n",
        "sentences = [\n",
        "    \"The weather today is [MASK].\",\n",
        "    \"I like to eat [MASK] for breakfast.\",\n",
        "    \"She is a [MASK] woman.\",\n",
        "    \"He drives a [MASK] car.\",\n",
        "    \"They are going to the [MASK].\"\n",
        "]\n",
        "\n",
        "# Use the model to predict the masked words\n",
        "for sentence in sentences:\n",
        "    print(predict_masked_words(sentence, mlm_model, tokenizer))"
      ]
    },
    {
      "cell_type": "markdown",
      "metadata": {
        "application/vnd.databricks.v1+cell": {
          "cellMetadata": {},
          "inputWidgets": {},
          "nuid": "ef48250b-a8d8-46d0-bc40-da42d1fb6f9e",
          "showTitle": false,
          "title": ""
        },
        "id": "d-UHp1EjcnPr"
      },
      "source": [
        "### Experiment with Different Sentences\n",
        "\n",
        "We define even more sentences with masked words and use our model to predict what these masked words should be."
      ]
    },
    {
      "cell_type": "code",
      "execution_count": 19,
      "metadata": {
        "application/vnd.databricks.v1+cell": {
          "cellMetadata": {
            "byteLimit": 2048000,
            "rowLimit": 10000
          },
          "inputWidgets": {},
          "nuid": "58ad6a30-bc03-4ad7-92d6-5cbccd03faf6",
          "showTitle": false,
          "title": ""
        },
        "colab": {
          "base_uri": "https://localhost:8080/"
        },
        "id": "5axmMXulcnPr",
        "outputId": "d35dffcd-8183-4b83-c9b6-f5aee60dacfc"
      },
      "outputs": [
        {
          "output_type": "stream",
          "name": "stdout",
          "text": [
            ". my favorite color is pink . .\n",
            ". the cat sat on the floor . .\n",
            ". i am reading a comic book . .\n",
            ". she has a basket of apples . .\n",
            ". he plays the guitar in a band . .\n",
            ". i love to eat it for breakfast . i\n",
            ". the sun is shining bright in the sky . .\n",
            ". please pass me the book from the shelf . .\n",
            ". they went on a trip to explore the jungle . they\n",
            ". the chef made a delicious meal for dinner . she\n",
            ". she found a flashlight in the old , dusty attic . ,\n",
            ". we are planning a trip to the mountains next weekend . .\n",
            ". the detective carefully examined the room for clues . .\n",
            ". the children built a sand ##castle on the beach . .\n",
            ". he wore a mysterious mask to the mas ##que ##rade ball . .\n"
          ]
        }
      ],
      "source": [
        "# Define more sentences with masked words\n",
        "sentences = [\n",
        "    \"My favorite color is [MASK].\",\n",
        "    \"The cat sat on the [MASK].\",\n",
        "    \"I am reading a [MASK] book.\",\n",
        "    \"She has a [MASK] of apples.\",\n",
        "    \"He plays the [MASK] in a band.\",\n",
        "    \"I love to eat [MASK] for breakfast.\",\n",
        "    \"The [MASK] is shining brightly in the sky.\",\n",
        "    \"Please pass me the [MASK] from the shelf.\",\n",
        "    \"They went on a [MASK] to explore the jungle.\",\n",
        "    \"The chef prepared a delicious [MASK] for dinner.\",\n",
        "    \"She found a [MASK] in the old, dusty attic.\",\n",
        "    \"We are planning a [MASK] to the mountains next weekend.\",\n",
        "    \"The detective carefully examined the [MASK] for clues.\",\n",
        "    \"The children built a sandcastle on the [MASK].\",\n",
        "    \"He wore a mysterious [MASK] to the masquerade ball.\"\n",
        "]\n",
        "\n",
        "\n",
        "# Use the model to predict the masked words\n",
        "for sentence in sentences:\n",
        "    print(predict_masked_words(sentence, mlm_model, tokenizer))"
      ]
    },
    {
      "cell_type": "markdown",
      "metadata": {
        "application/vnd.databricks.v1+cell": {
          "cellMetadata": {},
          "inputWidgets": {},
          "nuid": "ceea927d-4ef3-4d4c-a4ed-921fe5e35369",
          "showTitle": false,
          "title": ""
        },
        "id": "ZMVawksxcnPr"
      },
      "source": [
        "# Section 2 - Questions\n",
        "\n",
        "Having explored the use of BERT for masked language modeling, we can now explore some questions related to this task.\n",
        "\n",
        "**Question 5:**\n",
        "What happens when you mask more than one word in a sentence? Can the model accurately predict both masked words?"
      ]
    },
    {
      "cell_type": "code",
      "execution_count": 20,
      "metadata": {
        "application/vnd.databricks.v1+cell": {
          "cellMetadata": {
            "byteLimit": 2048000,
            "rowLimit": 10000
          },
          "inputWidgets": {},
          "nuid": "0b8b7b91-28e2-416b-9626-76f45f46137d",
          "showTitle": false,
          "title": ""
        },
        "colab": {
          "base_uri": "https://localhost:8080/"
        },
        "id": "3f2-DSRYcnPs",
        "outputId": "9490c3cd-b663-4164-b9a8-c283951b9798"
      },
      "outputs": [
        {
          "output_type": "stream",
          "name": "stdout",
          "text": [
            ". the sun is shining brightly in the distance . .\n"
          ]
        }
      ],
      "source": [
        "# TODO\n",
        "# Define a sentence with two masked words\n",
        "# Actual sentence: The sun is shining brightly in the sky.\n",
        "sentence_q5 = \"The [MASK] is shining brightly in the [MASK].\"\n",
        "print(predict_masked_words(sentence_q5, mlm_model, tokenizer))"
      ]
    },
    {
      "cell_type": "markdown",
      "source": [
        "**Observation:** When you mask more than one word in a sentence, the model might struggle to accurately predict all the masked words, especially if there are dependencies between the masked words or if the context is ambiguous. In this case, the model predicted \"sun\" correctly, but it did not predict the second masked word correctly, and instead, it produced two \"distance\" and consecutive periods. This indicates that the model faced challenges in predicting both masked words accurately in this specific sentence. The performance of a language model in predicting masked words can depend on the context, the complexity of the sentence, and the relationships between the masked words.\n",
        "\n",
        "\n",
        "\n",
        "\n",
        "\n"
      ],
      "metadata": {
        "id": "Svml71fae1mk"
      }
    },
    {
      "cell_type": "code",
      "execution_count": null,
      "metadata": {
        "application/vnd.databricks.v1+cell": {
          "cellMetadata": {
            "byteLimit": 2048000,
            "rowLimit": 10000
          },
          "inputWidgets": {},
          "nuid": "6c1a2df9-1835-4c0c-90f1-a2fd466add41",
          "showTitle": false,
          "title": ""
        },
        "id": "ItohWwWTcnPs",
        "outputId": "1651ddaa-76c7-42ac-9b9e-9dd11b0fc340"
      },
      "outputs": [
        {
          "output_type": "stream",
          "name": "stdout",
          "text": [
            "\u001b[32mPASSED\u001b[0m: All tests passed for lesson1, question5\n\u001b[32mRESULTS RECORDED\u001b[0m: Click `Submit` when all questions are completed to log the results.\n"
          ]
        }
      ],
      "source": [
        "# Test your answer. DO NOT MODIFY THIS CELL.\n",
        "\n",
        "dbTestQuestion1_5(sentence_q5)"
      ]
    },
    {
      "cell_type": "markdown",
      "metadata": {
        "application/vnd.databricks.v1+cell": {
          "cellMetadata": {},
          "inputWidgets": {},
          "nuid": "789a8470-eb65-4f6f-85ea-cd64197d8e28",
          "showTitle": false,
          "title": ""
        },
        "id": "9b0jViEycnPs"
      },
      "source": [
        "**Question 6:**\n",
        "Use the model to predict the masked word in a sentence in a language other than English. Does the model accurately predict the masked word? Think about why/why not."
      ]
    },
    {
      "cell_type": "code",
      "execution_count": 21,
      "metadata": {
        "application/vnd.databricks.v1+cell": {
          "cellMetadata": {
            "byteLimit": 2048000,
            "rowLimit": 10000
          },
          "inputWidgets": {},
          "nuid": "9fdd9152-0ec9-4224-84a6-af71eccb0cd2",
          "showTitle": false,
          "title": ""
        },
        "colab": {
          "base_uri": "https://localhost:8080/"
        },
        "id": "z6iuqxVqcnPt",
        "outputId": "d91f088e-297a-4b5e-93fa-77c5f5294d6e"
      },
      "outputs": [
        {
          "output_type": "stream",
          "name": "stdout",
          "text": [
            ". he wore a mysterious mask to the mas ##que ##rade ball . .\n"
          ]
        }
      ],
      "source": [
        "# TODO\n",
        "# Define a sentence in French with a masked word\n",
        "sentence_q6 = \"J'adore manger du [MASK] le matin.\"\n",
        "print(predict_masked_words(sentence, mlm_model, tokenizer))"
      ]
    },
    {
      "cell_type": "markdown",
      "source": [
        "**Observation:** The model does not accurately predict the masked word in French.The model's pre-training is based on a large corpus of English text, and its ability to predict masked words relies on the patterns and relationships it learned during training. When presented with a sentence in a language other than English, such as French in this case, the model may not perform as well. This is because the model lacks specific language knowledge and contextual patterns for languages other than English.\n",
        "\n",
        "In the provided example, the predicted output contains English words like \"he,\" \"wore,\" and \"a mysterious mask,\" suggesting that the model is struggling to understand and predict the masked word in French. If you want the model to accurately predict masked words in a language other than English, it's beneficial to fine-tune the model on data in that specific language or use a pre-trained model that has been specifically trained on a multilingual corpus."
      ],
      "metadata": {
        "id": "_yAx5LKtggQj"
      }
    },
    {
      "cell_type": "code",
      "execution_count": null,
      "metadata": {
        "application/vnd.databricks.v1+cell": {
          "cellMetadata": {
            "byteLimit": 2048000,
            "rowLimit": 10000
          },
          "inputWidgets": {},
          "nuid": "95723679-1f0d-4df7-a32d-c2dc5e6ea177",
          "showTitle": false,
          "title": ""
        },
        "id": "frqwoO-tcnPt",
        "outputId": "bc2b69c0-5d2e-40ac-d995-23835bdfb57f"
      },
      "outputs": [
        {
          "output_type": "stream",
          "name": "stdout",
          "text": [
            "\u001b[32mPASSED\u001b[0m: All tests passed for lesson1, question6\n\u001b[32mRESULTS RECORDED\u001b[0m: Click `Submit` when all questions are completed to log the results.\n"
          ]
        }
      ],
      "source": [
        "# Test your answer. DO NOT MODIFY THIS CELL.\n",
        "\n",
        "dbTestQuestion1_6(sentence_q6)"
      ]
    },
    {
      "cell_type": "markdown",
      "metadata": {
        "application/vnd.databricks.v1+cell": {
          "cellMetadata": {},
          "inputWidgets": {},
          "nuid": "53c16cc4-4148-4c00-b986-f45a1a2862be",
          "showTitle": false,
          "title": ""
        },
        "id": "6cCOKaPIcnPu"
      },
      "source": [
        "**Question 7:**\n",
        "Mask a word that has different meanings in different contexts. Does the model accurately predict the correct word based on the context?"
      ]
    },
    {
      "cell_type": "code",
      "execution_count": null,
      "metadata": {
        "application/vnd.databricks.v1+cell": {
          "cellMetadata": {
            "byteLimit": 2048000,
            "rowLimit": 10000
          },
          "inputWidgets": {},
          "nuid": "f8bd07a8-29ad-470a-beaa-f426b0830d08",
          "showTitle": false,
          "title": ""
        },
        "id": "PY-EuEjpcnPu",
        "outputId": "c950dd8f-6282-422e-baaf-b336e74f159f"
      },
      "outputs": [
        {
          "output_type": "stream",
          "name": "stdout",
          "text": [
            ". the bank is located near the river , and i need to withdraw money from the bank . .\n. she used a hammer to hammer the nail into the wall . she\n"
          ]
        }
      ],
      "source": [
        "# TODO\n",
        "# Define two sentences where a word has different meanings\n",
        "sentence_q7a = \"The bank is located near the river, and I need to withdraw money from the [MASK].\"\n",
        "sentence_q7b = \"She used a hammer to [MASK] the nail into the wall.\"\n",
        "print(predict_masked_words(sentence_q7a, mlm_model, tokenizer))\n",
        "print(predict_masked_words(sentence_q7b, mlm_model, tokenizer))"
      ]
    },
    {
      "cell_type": "markdown",
      "source": [
        "**Observation:** The model accurately predicts the masked word based on the context in one of the sentences. In the first sentence, where the word \"bank\" has a financial context, the model predicts \"bank\" correctly. In the second sentence, where the word \"bank\" is used as a verb, the model does not predicts \"bank\" accurately.\n",
        "\n",
        "This suggests that the model is able to capture contextual information and distinguish between different meanings of a word based on the surrounding context to some extent only. The success in predicting the correct word indicates that the model has learned semantic relationships and contextual nuances during its training. The ability to predict the correct word in context is a valuable aspect of the model's language understanding capabilities.\n",
        "\n",
        "\n",
        "\n",
        "\n",
        "\n"
      ],
      "metadata": {
        "id": "H_EVpPMCg349"
      }
    },
    {
      "cell_type": "code",
      "execution_count": null,
      "metadata": {
        "application/vnd.databricks.v1+cell": {
          "cellMetadata": {
            "byteLimit": 2048000,
            "rowLimit": 10000
          },
          "inputWidgets": {},
          "nuid": "5bd8c6ef-4222-4ada-aef5-799c7b24fce6",
          "showTitle": false,
          "title": ""
        },
        "id": "hNlei7F7cnPv",
        "outputId": "9eeb833e-2014-4135-f4a5-5c5cb5e30686"
      },
      "outputs": [
        {
          "output_type": "stream",
          "name": "stdout",
          "text": [
            "\u001b[32mPASSED\u001b[0m: All tests passed for lesson1, question7\n\u001b[32mRESULTS RECORDED\u001b[0m: Click `Submit` when all questions are completed to log the results.\n"
          ]
        }
      ],
      "source": [
        "# Test your answer. DO NOT MODIFY THIS CELL.\n",
        "\n",
        "dbTestQuestion1_7(sentence_q7a, sentence_q7b)"
      ]
    },
    {
      "cell_type": "markdown",
      "metadata": {
        "application/vnd.databricks.v1+cell": {
          "cellMetadata": {},
          "inputWidgets": {},
          "nuid": "0d5ccce7-12c8-4db6-9901-f3810c960f77",
          "showTitle": false,
          "title": ""
        },
        "id": "S2YC9ln3cnPv"
      },
      "source": [
        "**Question 8:**\n",
        "Mask a word in a sentence that makes sense only in a specific cultural context. Does the model accurately predict the masked word?"
      ]
    },
    {
      "cell_type": "code",
      "execution_count": null,
      "metadata": {
        "application/vnd.databricks.v1+cell": {
          "cellMetadata": {
            "byteLimit": 2048000,
            "rowLimit": 10000
          },
          "inputWidgets": {},
          "nuid": "88e7f99d-9e38-498c-9a03-f5eb16ffc701",
          "showTitle": false,
          "title": ""
        },
        "id": "wm4SmzgHcnPv",
        "outputId": "994d416e-eb18-420e-95e1-0ca307fd2099"
      },
      "outputs": [
        {
          "output_type": "stream",
          "name": "stdout",
          "text": [
            ". at the barbecue , he grille cooked up some chicken and everyone loved it . he\n"
          ]
        }
      ],
      "source": [
        "# TODO\n",
        "# Define a sentence that makes sense only in a specific cultural context\n",
        "sentence_q8b = \"At the barbecue, he grilled up some [MASK] and everyone loved it.\"\n",
        "print(predict_masked_words(sentence_q8b, mlm_model, tokenizer))"
      ]
    },
    {
      "cell_type": "markdown",
      "source": [
        "**Observation:** The model accurately predicts the masked word in the sentence, and it fills in \"chicken.\" In this case, the model successfully predicts the word \"chicken\" in the context of a barbecue. This suggests that the model has learned cultural associations and culinary contexts during its training. It's worth noting that the model might have been exposed to a diverse range of texts, including those that describe cultural activities and food.\n",
        "\n",
        "However, the success of predicting culturally specific words may vary depending on the degree to which the cultural context is represented in the training data. If a specific cultural term is rare or not well-represented in the training corpus, the model may not perform as accurately. Nonetheless, the ability to predict culturally specific words indicates the model's capacity to understand and generate language in various cultural contexts."
      ],
      "metadata": {
        "id": "QRHDkQ21hUyC"
      }
    },
    {
      "cell_type": "code",
      "execution_count": null,
      "metadata": {
        "application/vnd.databricks.v1+cell": {
          "cellMetadata": {
            "byteLimit": 2048000,
            "rowLimit": 10000
          },
          "inputWidgets": {},
          "nuid": "f65cd1b8-cc18-4c05-aff8-029e16e83e79",
          "showTitle": false,
          "title": ""
        },
        "id": "bUElsoUqcnPw",
        "outputId": "a6dc5b25-f4dc-4fb0-d94d-945588adad87"
      },
      "outputs": [
        {
          "output_type": "stream",
          "name": "stdout",
          "text": [
            "\u001b[32mPASSED\u001b[0m: All tests passed for lesson1, question8\n\u001b[32mRESULTS RECORDED\u001b[0m: Click `Submit` when all questions are completed to log the results.\n"
          ]
        }
      ],
      "source": [
        "# Test your answer. DO NOT MODIFY THIS CELL.\n",
        "\n",
        "dbTestQuestion1_8(sentence_q8)"
      ]
    },
    {
      "cell_type": "markdown",
      "metadata": {
        "application/vnd.databricks.v1+cell": {
          "cellMetadata": {},
          "inputWidgets": {},
          "nuid": "1990fba5-2dbb-4d38-abd3-4d2f5b0cc222",
          "showTitle": false,
          "title": ""
        },
        "id": "ppPw2uMMcnPx"
      },
      "source": [
        "**Question 9:**\n",
        "Mask a word in a sentence that contains an idiomatic expression. Does the model accurately predict the masked word?"
      ]
    },
    {
      "cell_type": "code",
      "execution_count": null,
      "metadata": {
        "application/vnd.databricks.v1+cell": {
          "cellMetadata": {
            "byteLimit": 2048000,
            "rowLimit": 10000
          },
          "inputWidgets": {},
          "nuid": "f36eb28d-abe9-4a0d-ae10-c52e4fb0c65a",
          "showTitle": false,
          "title": ""
        },
        "id": "BvM8IeobcnPx",
        "outputId": "3e4c0443-4a41-429e-a295-32a140eeb1b3"
      },
      "outputs": [
        {
          "output_type": "stream",
          "name": "stdout",
          "text": [
            ". after studying all night , she finally got the ground and understood the concept . .\n"
          ]
        }
      ],
      "source": [
        "# TODO\n",
        "# Define a sentence that contains an idiomatic expression\n",
        "sentence_q9 = \"After studying all night, she finally hit the [MASK] and understood the concept.\"\n",
        "print(predict_masked_words(sentence_q9, mlm_model, tokenizer))"
      ]
    },
    {
      "cell_type": "markdown",
      "source": [
        "**Observation:** The model does not accurately predict the masked word in the sentence containing an idiomatic expression. Instead of predicting the idiomatic expression \"hit the hay,\" it produces \"got the ground.\" Idiomatic expressions often pose challenges for language models because their meaning is not always predictable based on the individual words' meanings. In this case, the model appears to struggle with predicting the idiomatic expression \"hit the hay\" and generates a substitution that does not convey the intended meaning. This illustrates a limitation of language models when it comes to understanding and generating idioms, as they require knowledge of specific phrases and their non-literal meanings. Fine-tuning on data that includes idiomatic expressions or using models specifically trained to handle idioms may help improve performance in such cases."
      ],
      "metadata": {
        "id": "GBhxRZjPhms4"
      }
    },
    {
      "cell_type": "code",
      "execution_count": null,
      "metadata": {
        "application/vnd.databricks.v1+cell": {
          "cellMetadata": {
            "byteLimit": 2048000,
            "rowLimit": 10000
          },
          "inputWidgets": {},
          "nuid": "d1fa4b7d-ffa6-4ed5-b313-c7c4d31e094c",
          "showTitle": false,
          "title": ""
        },
        "id": "udsJjGTacnPy",
        "outputId": "cc8e6773-c137-4c92-943c-5508bc7b47a0"
      },
      "outputs": [
        {
          "output_type": "stream",
          "name": "stdout",
          "text": [
            "\u001b[32mPASSED\u001b[0m: All tests passed for lesson1, question9\n\u001b[32mRESULTS RECORDED\u001b[0m: Click `Submit` when all questions are completed to log the results.\n"
          ]
        }
      ],
      "source": [
        "# Test your answer. DO NOT MODIFY THIS CELL.\n",
        "\n",
        "dbTestQuestion1_9(sentence_q9)"
      ]
    },
    {
      "cell_type": "markdown",
      "metadata": {
        "application/vnd.databricks.v1+cell": {
          "cellMetadata": {},
          "inputWidgets": {},
          "nuid": "ec5c878a-0ae3-4386-93c2-d8f173cb2c23",
          "showTitle": false,
          "title": ""
        },
        "id": "u45aQ4k_cnPy"
      },
      "source": [
        "&copy; 2023 Databricks, Inc. All rights reserved.<br/>\n",
        "Apache, Apache Spark, Spark and the Spark logo are trademarks of the <a href=\"https://www.apache.org/\">Apache Software Foundation</a>.<br/>\n",
        "<br/>\n",
        "<a href=\"https://databricks.com/privacy-policy\">Privacy Policy</a> | <a href=\"https://databricks.com/terms-of-use\">Terms of Use</a> | <a href=\"https://help.databricks.com/\">Support</a>"
      ]
    }
  ],
  "metadata": {
    "application/vnd.databricks.v1+notebook": {
      "dashboards": [],
      "language": "python",
      "notebookMetadata": {
        "pythonIndentUnit": 2
      },
      "notebookName": "LLM 01L - Transformer Architecture Lab",
      "widgets": {}
    },
    "colab": {
      "provenance": []
    },
    "language_info": {
      "name": "python"
    },
    "kernelspec": {
      "name": "python3",
      "display_name": "Python 3"
    },
    "widgets": {
      "application/vnd.jupyter.widget-state+json": {
        "63d9cc773e4a4b2294c992c3ef929f5a": {
          "model_module": "@jupyter-widgets/controls",
          "model_name": "HBoxModel",
          "model_module_version": "1.5.0",
          "state": {
            "_dom_classes": [],
            "_model_module": "@jupyter-widgets/controls",
            "_model_module_version": "1.5.0",
            "_model_name": "HBoxModel",
            "_view_count": null,
            "_view_module": "@jupyter-widgets/controls",
            "_view_module_version": "1.5.0",
            "_view_name": "HBoxView",
            "box_style": "",
            "children": [
              "IPY_MODEL_acee1dd87a184e168ab91c3f88b93eff",
              "IPY_MODEL_49c4f99f2ce843d7b68e0fa282aca965",
              "IPY_MODEL_e5f9f40bcfe942c0adcaaab0fb12415d"
            ],
            "layout": "IPY_MODEL_6673222ad7774c7ea2a99aeddcf547c2"
          }
        },
        "acee1dd87a184e168ab91c3f88b93eff": {
          "model_module": "@jupyter-widgets/controls",
          "model_name": "HTMLModel",
          "model_module_version": "1.5.0",
          "state": {
            "_dom_classes": [],
            "_model_module": "@jupyter-widgets/controls",
            "_model_module_version": "1.5.0",
            "_model_name": "HTMLModel",
            "_view_count": null,
            "_view_module": "@jupyter-widgets/controls",
            "_view_module_version": "1.5.0",
            "_view_name": "HTMLView",
            "description": "",
            "description_tooltip": null,
            "layout": "IPY_MODEL_a8c4180223eb4226bde8ebe8d1127bd5",
            "placeholder": "​",
            "style": "IPY_MODEL_0e3b4dd7554a4757a346f7dfca52337f",
            "value": "config.json: 100%"
          }
        },
        "49c4f99f2ce843d7b68e0fa282aca965": {
          "model_module": "@jupyter-widgets/controls",
          "model_name": "FloatProgressModel",
          "model_module_version": "1.5.0",
          "state": {
            "_dom_classes": [],
            "_model_module": "@jupyter-widgets/controls",
            "_model_module_version": "1.5.0",
            "_model_name": "FloatProgressModel",
            "_view_count": null,
            "_view_module": "@jupyter-widgets/controls",
            "_view_module_version": "1.5.0",
            "_view_name": "ProgressView",
            "bar_style": "success",
            "description": "",
            "description_tooltip": null,
            "layout": "IPY_MODEL_5752da3df71b4000a0072bc4a0f56844",
            "max": 570,
            "min": 0,
            "orientation": "horizontal",
            "style": "IPY_MODEL_1d1ae613926c4a7d83585b95e462a2fe",
            "value": 570
          }
        },
        "e5f9f40bcfe942c0adcaaab0fb12415d": {
          "model_module": "@jupyter-widgets/controls",
          "model_name": "HTMLModel",
          "model_module_version": "1.5.0",
          "state": {
            "_dom_classes": [],
            "_model_module": "@jupyter-widgets/controls",
            "_model_module_version": "1.5.0",
            "_model_name": "HTMLModel",
            "_view_count": null,
            "_view_module": "@jupyter-widgets/controls",
            "_view_module_version": "1.5.0",
            "_view_name": "HTMLView",
            "description": "",
            "description_tooltip": null,
            "layout": "IPY_MODEL_3170dba11f4042f1a79d99d32739e60b",
            "placeholder": "​",
            "style": "IPY_MODEL_8395e34416db43798ea12ae8725bc0ab",
            "value": " 570/570 [00:00&lt;00:00, 9.83kB/s]"
          }
        },
        "6673222ad7774c7ea2a99aeddcf547c2": {
          "model_module": "@jupyter-widgets/base",
          "model_name": "LayoutModel",
          "model_module_version": "1.2.0",
          "state": {
            "_model_module": "@jupyter-widgets/base",
            "_model_module_version": "1.2.0",
            "_model_name": "LayoutModel",
            "_view_count": null,
            "_view_module": "@jupyter-widgets/base",
            "_view_module_version": "1.2.0",
            "_view_name": "LayoutView",
            "align_content": null,
            "align_items": null,
            "align_self": null,
            "border": null,
            "bottom": null,
            "display": null,
            "flex": null,
            "flex_flow": null,
            "grid_area": null,
            "grid_auto_columns": null,
            "grid_auto_flow": null,
            "grid_auto_rows": null,
            "grid_column": null,
            "grid_gap": null,
            "grid_row": null,
            "grid_template_areas": null,
            "grid_template_columns": null,
            "grid_template_rows": null,
            "height": null,
            "justify_content": null,
            "justify_items": null,
            "left": null,
            "margin": null,
            "max_height": null,
            "max_width": null,
            "min_height": null,
            "min_width": null,
            "object_fit": null,
            "object_position": null,
            "order": null,
            "overflow": null,
            "overflow_x": null,
            "overflow_y": null,
            "padding": null,
            "right": null,
            "top": null,
            "visibility": null,
            "width": null
          }
        },
        "a8c4180223eb4226bde8ebe8d1127bd5": {
          "model_module": "@jupyter-widgets/base",
          "model_name": "LayoutModel",
          "model_module_version": "1.2.0",
          "state": {
            "_model_module": "@jupyter-widgets/base",
            "_model_module_version": "1.2.0",
            "_model_name": "LayoutModel",
            "_view_count": null,
            "_view_module": "@jupyter-widgets/base",
            "_view_module_version": "1.2.0",
            "_view_name": "LayoutView",
            "align_content": null,
            "align_items": null,
            "align_self": null,
            "border": null,
            "bottom": null,
            "display": null,
            "flex": null,
            "flex_flow": null,
            "grid_area": null,
            "grid_auto_columns": null,
            "grid_auto_flow": null,
            "grid_auto_rows": null,
            "grid_column": null,
            "grid_gap": null,
            "grid_row": null,
            "grid_template_areas": null,
            "grid_template_columns": null,
            "grid_template_rows": null,
            "height": null,
            "justify_content": null,
            "justify_items": null,
            "left": null,
            "margin": null,
            "max_height": null,
            "max_width": null,
            "min_height": null,
            "min_width": null,
            "object_fit": null,
            "object_position": null,
            "order": null,
            "overflow": null,
            "overflow_x": null,
            "overflow_y": null,
            "padding": null,
            "right": null,
            "top": null,
            "visibility": null,
            "width": null
          }
        },
        "0e3b4dd7554a4757a346f7dfca52337f": {
          "model_module": "@jupyter-widgets/controls",
          "model_name": "DescriptionStyleModel",
          "model_module_version": "1.5.0",
          "state": {
            "_model_module": "@jupyter-widgets/controls",
            "_model_module_version": "1.5.0",
            "_model_name": "DescriptionStyleModel",
            "_view_count": null,
            "_view_module": "@jupyter-widgets/base",
            "_view_module_version": "1.2.0",
            "_view_name": "StyleView",
            "description_width": ""
          }
        },
        "5752da3df71b4000a0072bc4a0f56844": {
          "model_module": "@jupyter-widgets/base",
          "model_name": "LayoutModel",
          "model_module_version": "1.2.0",
          "state": {
            "_model_module": "@jupyter-widgets/base",
            "_model_module_version": "1.2.0",
            "_model_name": "LayoutModel",
            "_view_count": null,
            "_view_module": "@jupyter-widgets/base",
            "_view_module_version": "1.2.0",
            "_view_name": "LayoutView",
            "align_content": null,
            "align_items": null,
            "align_self": null,
            "border": null,
            "bottom": null,
            "display": null,
            "flex": null,
            "flex_flow": null,
            "grid_area": null,
            "grid_auto_columns": null,
            "grid_auto_flow": null,
            "grid_auto_rows": null,
            "grid_column": null,
            "grid_gap": null,
            "grid_row": null,
            "grid_template_areas": null,
            "grid_template_columns": null,
            "grid_template_rows": null,
            "height": null,
            "justify_content": null,
            "justify_items": null,
            "left": null,
            "margin": null,
            "max_height": null,
            "max_width": null,
            "min_height": null,
            "min_width": null,
            "object_fit": null,
            "object_position": null,
            "order": null,
            "overflow": null,
            "overflow_x": null,
            "overflow_y": null,
            "padding": null,
            "right": null,
            "top": null,
            "visibility": null,
            "width": null
          }
        },
        "1d1ae613926c4a7d83585b95e462a2fe": {
          "model_module": "@jupyter-widgets/controls",
          "model_name": "ProgressStyleModel",
          "model_module_version": "1.5.0",
          "state": {
            "_model_module": "@jupyter-widgets/controls",
            "_model_module_version": "1.5.0",
            "_model_name": "ProgressStyleModel",
            "_view_count": null,
            "_view_module": "@jupyter-widgets/base",
            "_view_module_version": "1.2.0",
            "_view_name": "StyleView",
            "bar_color": null,
            "description_width": ""
          }
        },
        "3170dba11f4042f1a79d99d32739e60b": {
          "model_module": "@jupyter-widgets/base",
          "model_name": "LayoutModel",
          "model_module_version": "1.2.0",
          "state": {
            "_model_module": "@jupyter-widgets/base",
            "_model_module_version": "1.2.0",
            "_model_name": "LayoutModel",
            "_view_count": null,
            "_view_module": "@jupyter-widgets/base",
            "_view_module_version": "1.2.0",
            "_view_name": "LayoutView",
            "align_content": null,
            "align_items": null,
            "align_self": null,
            "border": null,
            "bottom": null,
            "display": null,
            "flex": null,
            "flex_flow": null,
            "grid_area": null,
            "grid_auto_columns": null,
            "grid_auto_flow": null,
            "grid_auto_rows": null,
            "grid_column": null,
            "grid_gap": null,
            "grid_row": null,
            "grid_template_areas": null,
            "grid_template_columns": null,
            "grid_template_rows": null,
            "height": null,
            "justify_content": null,
            "justify_items": null,
            "left": null,
            "margin": null,
            "max_height": null,
            "max_width": null,
            "min_height": null,
            "min_width": null,
            "object_fit": null,
            "object_position": null,
            "order": null,
            "overflow": null,
            "overflow_x": null,
            "overflow_y": null,
            "padding": null,
            "right": null,
            "top": null,
            "visibility": null,
            "width": null
          }
        },
        "8395e34416db43798ea12ae8725bc0ab": {
          "model_module": "@jupyter-widgets/controls",
          "model_name": "DescriptionStyleModel",
          "model_module_version": "1.5.0",
          "state": {
            "_model_module": "@jupyter-widgets/controls",
            "_model_module_version": "1.5.0",
            "_model_name": "DescriptionStyleModel",
            "_view_count": null,
            "_view_module": "@jupyter-widgets/base",
            "_view_module_version": "1.2.0",
            "_view_name": "StyleView",
            "description_width": ""
          }
        },
        "8a321be746de46fd91cc4b6302a67d05": {
          "model_module": "@jupyter-widgets/controls",
          "model_name": "HBoxModel",
          "model_module_version": "1.5.0",
          "state": {
            "_dom_classes": [],
            "_model_module": "@jupyter-widgets/controls",
            "_model_module_version": "1.5.0",
            "_model_name": "HBoxModel",
            "_view_count": null,
            "_view_module": "@jupyter-widgets/controls",
            "_view_module_version": "1.5.0",
            "_view_name": "HBoxView",
            "box_style": "",
            "children": [
              "IPY_MODEL_bc9e5e3e38e8497c9879500cc7a84cb4",
              "IPY_MODEL_2996eecab2704e76a7970b35299021da",
              "IPY_MODEL_d8742589408841ee8054297f3ea48be5"
            ],
            "layout": "IPY_MODEL_e06c44c41efd4080974537cdc333db15"
          }
        },
        "bc9e5e3e38e8497c9879500cc7a84cb4": {
          "model_module": "@jupyter-widgets/controls",
          "model_name": "HTMLModel",
          "model_module_version": "1.5.0",
          "state": {
            "_dom_classes": [],
            "_model_module": "@jupyter-widgets/controls",
            "_model_module_version": "1.5.0",
            "_model_name": "HTMLModel",
            "_view_count": null,
            "_view_module": "@jupyter-widgets/controls",
            "_view_module_version": "1.5.0",
            "_view_name": "HTMLView",
            "description": "",
            "description_tooltip": null,
            "layout": "IPY_MODEL_e82da206a8344fe89cdc133537acec24",
            "placeholder": "​",
            "style": "IPY_MODEL_894cb358da084910a2c139220bab61e1",
            "value": "model.safetensors: 100%"
          }
        },
        "2996eecab2704e76a7970b35299021da": {
          "model_module": "@jupyter-widgets/controls",
          "model_name": "FloatProgressModel",
          "model_module_version": "1.5.0",
          "state": {
            "_dom_classes": [],
            "_model_module": "@jupyter-widgets/controls",
            "_model_module_version": "1.5.0",
            "_model_name": "FloatProgressModel",
            "_view_count": null,
            "_view_module": "@jupyter-widgets/controls",
            "_view_module_version": "1.5.0",
            "_view_name": "ProgressView",
            "bar_style": "success",
            "description": "",
            "description_tooltip": null,
            "layout": "IPY_MODEL_1280ca1ac4844137ac3a0ad191c276ec",
            "max": 440449768,
            "min": 0,
            "orientation": "horizontal",
            "style": "IPY_MODEL_7f5bad1a17164e8d895a3fcb755f4aed",
            "value": 440449768
          }
        },
        "d8742589408841ee8054297f3ea48be5": {
          "model_module": "@jupyter-widgets/controls",
          "model_name": "HTMLModel",
          "model_module_version": "1.5.0",
          "state": {
            "_dom_classes": [],
            "_model_module": "@jupyter-widgets/controls",
            "_model_module_version": "1.5.0",
            "_model_name": "HTMLModel",
            "_view_count": null,
            "_view_module": "@jupyter-widgets/controls",
            "_view_module_version": "1.5.0",
            "_view_name": "HTMLView",
            "description": "",
            "description_tooltip": null,
            "layout": "IPY_MODEL_55bab34388084353b2fc43add32c4267",
            "placeholder": "​",
            "style": "IPY_MODEL_5b28d7a06ae24f46965fc8b8cf97906d",
            "value": " 440M/440M [00:04&lt;00:00, 92.0MB/s]"
          }
        },
        "e06c44c41efd4080974537cdc333db15": {
          "model_module": "@jupyter-widgets/base",
          "model_name": "LayoutModel",
          "model_module_version": "1.2.0",
          "state": {
            "_model_module": "@jupyter-widgets/base",
            "_model_module_version": "1.2.0",
            "_model_name": "LayoutModel",
            "_view_count": null,
            "_view_module": "@jupyter-widgets/base",
            "_view_module_version": "1.2.0",
            "_view_name": "LayoutView",
            "align_content": null,
            "align_items": null,
            "align_self": null,
            "border": null,
            "bottom": null,
            "display": null,
            "flex": null,
            "flex_flow": null,
            "grid_area": null,
            "grid_auto_columns": null,
            "grid_auto_flow": null,
            "grid_auto_rows": null,
            "grid_column": null,
            "grid_gap": null,
            "grid_row": null,
            "grid_template_areas": null,
            "grid_template_columns": null,
            "grid_template_rows": null,
            "height": null,
            "justify_content": null,
            "justify_items": null,
            "left": null,
            "margin": null,
            "max_height": null,
            "max_width": null,
            "min_height": null,
            "min_width": null,
            "object_fit": null,
            "object_position": null,
            "order": null,
            "overflow": null,
            "overflow_x": null,
            "overflow_y": null,
            "padding": null,
            "right": null,
            "top": null,
            "visibility": null,
            "width": null
          }
        },
        "e82da206a8344fe89cdc133537acec24": {
          "model_module": "@jupyter-widgets/base",
          "model_name": "LayoutModel",
          "model_module_version": "1.2.0",
          "state": {
            "_model_module": "@jupyter-widgets/base",
            "_model_module_version": "1.2.0",
            "_model_name": "LayoutModel",
            "_view_count": null,
            "_view_module": "@jupyter-widgets/base",
            "_view_module_version": "1.2.0",
            "_view_name": "LayoutView",
            "align_content": null,
            "align_items": null,
            "align_self": null,
            "border": null,
            "bottom": null,
            "display": null,
            "flex": null,
            "flex_flow": null,
            "grid_area": null,
            "grid_auto_columns": null,
            "grid_auto_flow": null,
            "grid_auto_rows": null,
            "grid_column": null,
            "grid_gap": null,
            "grid_row": null,
            "grid_template_areas": null,
            "grid_template_columns": null,
            "grid_template_rows": null,
            "height": null,
            "justify_content": null,
            "justify_items": null,
            "left": null,
            "margin": null,
            "max_height": null,
            "max_width": null,
            "min_height": null,
            "min_width": null,
            "object_fit": null,
            "object_position": null,
            "order": null,
            "overflow": null,
            "overflow_x": null,
            "overflow_y": null,
            "padding": null,
            "right": null,
            "top": null,
            "visibility": null,
            "width": null
          }
        },
        "894cb358da084910a2c139220bab61e1": {
          "model_module": "@jupyter-widgets/controls",
          "model_name": "DescriptionStyleModel",
          "model_module_version": "1.5.0",
          "state": {
            "_model_module": "@jupyter-widgets/controls",
            "_model_module_version": "1.5.0",
            "_model_name": "DescriptionStyleModel",
            "_view_count": null,
            "_view_module": "@jupyter-widgets/base",
            "_view_module_version": "1.2.0",
            "_view_name": "StyleView",
            "description_width": ""
          }
        },
        "1280ca1ac4844137ac3a0ad191c276ec": {
          "model_module": "@jupyter-widgets/base",
          "model_name": "LayoutModel",
          "model_module_version": "1.2.0",
          "state": {
            "_model_module": "@jupyter-widgets/base",
            "_model_module_version": "1.2.0",
            "_model_name": "LayoutModel",
            "_view_count": null,
            "_view_module": "@jupyter-widgets/base",
            "_view_module_version": "1.2.0",
            "_view_name": "LayoutView",
            "align_content": null,
            "align_items": null,
            "align_self": null,
            "border": null,
            "bottom": null,
            "display": null,
            "flex": null,
            "flex_flow": null,
            "grid_area": null,
            "grid_auto_columns": null,
            "grid_auto_flow": null,
            "grid_auto_rows": null,
            "grid_column": null,
            "grid_gap": null,
            "grid_row": null,
            "grid_template_areas": null,
            "grid_template_columns": null,
            "grid_template_rows": null,
            "height": null,
            "justify_content": null,
            "justify_items": null,
            "left": null,
            "margin": null,
            "max_height": null,
            "max_width": null,
            "min_height": null,
            "min_width": null,
            "object_fit": null,
            "object_position": null,
            "order": null,
            "overflow": null,
            "overflow_x": null,
            "overflow_y": null,
            "padding": null,
            "right": null,
            "top": null,
            "visibility": null,
            "width": null
          }
        },
        "7f5bad1a17164e8d895a3fcb755f4aed": {
          "model_module": "@jupyter-widgets/controls",
          "model_name": "ProgressStyleModel",
          "model_module_version": "1.5.0",
          "state": {
            "_model_module": "@jupyter-widgets/controls",
            "_model_module_version": "1.5.0",
            "_model_name": "ProgressStyleModel",
            "_view_count": null,
            "_view_module": "@jupyter-widgets/base",
            "_view_module_version": "1.2.0",
            "_view_name": "StyleView",
            "bar_color": null,
            "description_width": ""
          }
        },
        "55bab34388084353b2fc43add32c4267": {
          "model_module": "@jupyter-widgets/base",
          "model_name": "LayoutModel",
          "model_module_version": "1.2.0",
          "state": {
            "_model_module": "@jupyter-widgets/base",
            "_model_module_version": "1.2.0",
            "_model_name": "LayoutModel",
            "_view_count": null,
            "_view_module": "@jupyter-widgets/base",
            "_view_module_version": "1.2.0",
            "_view_name": "LayoutView",
            "align_content": null,
            "align_items": null,
            "align_self": null,
            "border": null,
            "bottom": null,
            "display": null,
            "flex": null,
            "flex_flow": null,
            "grid_area": null,
            "grid_auto_columns": null,
            "grid_auto_flow": null,
            "grid_auto_rows": null,
            "grid_column": null,
            "grid_gap": null,
            "grid_row": null,
            "grid_template_areas": null,
            "grid_template_columns": null,
            "grid_template_rows": null,
            "height": null,
            "justify_content": null,
            "justify_items": null,
            "left": null,
            "margin": null,
            "max_height": null,
            "max_width": null,
            "min_height": null,
            "min_width": null,
            "object_fit": null,
            "object_position": null,
            "order": null,
            "overflow": null,
            "overflow_x": null,
            "overflow_y": null,
            "padding": null,
            "right": null,
            "top": null,
            "visibility": null,
            "width": null
          }
        },
        "5b28d7a06ae24f46965fc8b8cf97906d": {
          "model_module": "@jupyter-widgets/controls",
          "model_name": "DescriptionStyleModel",
          "model_module_version": "1.5.0",
          "state": {
            "_model_module": "@jupyter-widgets/controls",
            "_model_module_version": "1.5.0",
            "_model_name": "DescriptionStyleModel",
            "_view_count": null,
            "_view_module": "@jupyter-widgets/base",
            "_view_module_version": "1.2.0",
            "_view_name": "StyleView",
            "description_width": ""
          }
        },
        "09d89f5995b74139b2e24fc4c9da6c1f": {
          "model_module": "@jupyter-widgets/controls",
          "model_name": "HBoxModel",
          "model_module_version": "1.5.0",
          "state": {
            "_dom_classes": [],
            "_model_module": "@jupyter-widgets/controls",
            "_model_module_version": "1.5.0",
            "_model_name": "HBoxModel",
            "_view_count": null,
            "_view_module": "@jupyter-widgets/controls",
            "_view_module_version": "1.5.0",
            "_view_name": "HBoxView",
            "box_style": "",
            "children": [
              "IPY_MODEL_1a24ec27393047b1b0fc0e49d127646a",
              "IPY_MODEL_9c7e6cab04514ce7a3cae46f48641495",
              "IPY_MODEL_eecf039c566044e0929a35022d41baa4"
            ],
            "layout": "IPY_MODEL_6819b6e5e3a949e98cf97d6cf2ba0e27"
          }
        },
        "1a24ec27393047b1b0fc0e49d127646a": {
          "model_module": "@jupyter-widgets/controls",
          "model_name": "HTMLModel",
          "model_module_version": "1.5.0",
          "state": {
            "_dom_classes": [],
            "_model_module": "@jupyter-widgets/controls",
            "_model_module_version": "1.5.0",
            "_model_name": "HTMLModel",
            "_view_count": null,
            "_view_module": "@jupyter-widgets/controls",
            "_view_module_version": "1.5.0",
            "_view_name": "HTMLView",
            "description": "",
            "description_tooltip": null,
            "layout": "IPY_MODEL_46f8020e0ded4232a007b46cacefc067",
            "placeholder": "​",
            "style": "IPY_MODEL_76c2858c64534c5595c551d0328c4365",
            "value": "tokenizer_config.json: 100%"
          }
        },
        "9c7e6cab04514ce7a3cae46f48641495": {
          "model_module": "@jupyter-widgets/controls",
          "model_name": "FloatProgressModel",
          "model_module_version": "1.5.0",
          "state": {
            "_dom_classes": [],
            "_model_module": "@jupyter-widgets/controls",
            "_model_module_version": "1.5.0",
            "_model_name": "FloatProgressModel",
            "_view_count": null,
            "_view_module": "@jupyter-widgets/controls",
            "_view_module_version": "1.5.0",
            "_view_name": "ProgressView",
            "bar_style": "success",
            "description": "",
            "description_tooltip": null,
            "layout": "IPY_MODEL_7dd10ca05b4642d390f6596049a7a697",
            "max": 28,
            "min": 0,
            "orientation": "horizontal",
            "style": "IPY_MODEL_9f087a91ec0c4032b52298d76efe3c40",
            "value": 28
          }
        },
        "eecf039c566044e0929a35022d41baa4": {
          "model_module": "@jupyter-widgets/controls",
          "model_name": "HTMLModel",
          "model_module_version": "1.5.0",
          "state": {
            "_dom_classes": [],
            "_model_module": "@jupyter-widgets/controls",
            "_model_module_version": "1.5.0",
            "_model_name": "HTMLModel",
            "_view_count": null,
            "_view_module": "@jupyter-widgets/controls",
            "_view_module_version": "1.5.0",
            "_view_name": "HTMLView",
            "description": "",
            "description_tooltip": null,
            "layout": "IPY_MODEL_bf7bc889cb4d4ad4a0f4104dae8c0c01",
            "placeholder": "​",
            "style": "IPY_MODEL_9910d1fffa91411a9ce3e0f918c083ff",
            "value": " 28.0/28.0 [00:00&lt;00:00, 757B/s]"
          }
        },
        "6819b6e5e3a949e98cf97d6cf2ba0e27": {
          "model_module": "@jupyter-widgets/base",
          "model_name": "LayoutModel",
          "model_module_version": "1.2.0",
          "state": {
            "_model_module": "@jupyter-widgets/base",
            "_model_module_version": "1.2.0",
            "_model_name": "LayoutModel",
            "_view_count": null,
            "_view_module": "@jupyter-widgets/base",
            "_view_module_version": "1.2.0",
            "_view_name": "LayoutView",
            "align_content": null,
            "align_items": null,
            "align_self": null,
            "border": null,
            "bottom": null,
            "display": null,
            "flex": null,
            "flex_flow": null,
            "grid_area": null,
            "grid_auto_columns": null,
            "grid_auto_flow": null,
            "grid_auto_rows": null,
            "grid_column": null,
            "grid_gap": null,
            "grid_row": null,
            "grid_template_areas": null,
            "grid_template_columns": null,
            "grid_template_rows": null,
            "height": null,
            "justify_content": null,
            "justify_items": null,
            "left": null,
            "margin": null,
            "max_height": null,
            "max_width": null,
            "min_height": null,
            "min_width": null,
            "object_fit": null,
            "object_position": null,
            "order": null,
            "overflow": null,
            "overflow_x": null,
            "overflow_y": null,
            "padding": null,
            "right": null,
            "top": null,
            "visibility": null,
            "width": null
          }
        },
        "46f8020e0ded4232a007b46cacefc067": {
          "model_module": "@jupyter-widgets/base",
          "model_name": "LayoutModel",
          "model_module_version": "1.2.0",
          "state": {
            "_model_module": "@jupyter-widgets/base",
            "_model_module_version": "1.2.0",
            "_model_name": "LayoutModel",
            "_view_count": null,
            "_view_module": "@jupyter-widgets/base",
            "_view_module_version": "1.2.0",
            "_view_name": "LayoutView",
            "align_content": null,
            "align_items": null,
            "align_self": null,
            "border": null,
            "bottom": null,
            "display": null,
            "flex": null,
            "flex_flow": null,
            "grid_area": null,
            "grid_auto_columns": null,
            "grid_auto_flow": null,
            "grid_auto_rows": null,
            "grid_column": null,
            "grid_gap": null,
            "grid_row": null,
            "grid_template_areas": null,
            "grid_template_columns": null,
            "grid_template_rows": null,
            "height": null,
            "justify_content": null,
            "justify_items": null,
            "left": null,
            "margin": null,
            "max_height": null,
            "max_width": null,
            "min_height": null,
            "min_width": null,
            "object_fit": null,
            "object_position": null,
            "order": null,
            "overflow": null,
            "overflow_x": null,
            "overflow_y": null,
            "padding": null,
            "right": null,
            "top": null,
            "visibility": null,
            "width": null
          }
        },
        "76c2858c64534c5595c551d0328c4365": {
          "model_module": "@jupyter-widgets/controls",
          "model_name": "DescriptionStyleModel",
          "model_module_version": "1.5.0",
          "state": {
            "_model_module": "@jupyter-widgets/controls",
            "_model_module_version": "1.5.0",
            "_model_name": "DescriptionStyleModel",
            "_view_count": null,
            "_view_module": "@jupyter-widgets/base",
            "_view_module_version": "1.2.0",
            "_view_name": "StyleView",
            "description_width": ""
          }
        },
        "7dd10ca05b4642d390f6596049a7a697": {
          "model_module": "@jupyter-widgets/base",
          "model_name": "LayoutModel",
          "model_module_version": "1.2.0",
          "state": {
            "_model_module": "@jupyter-widgets/base",
            "_model_module_version": "1.2.0",
            "_model_name": "LayoutModel",
            "_view_count": null,
            "_view_module": "@jupyter-widgets/base",
            "_view_module_version": "1.2.0",
            "_view_name": "LayoutView",
            "align_content": null,
            "align_items": null,
            "align_self": null,
            "border": null,
            "bottom": null,
            "display": null,
            "flex": null,
            "flex_flow": null,
            "grid_area": null,
            "grid_auto_columns": null,
            "grid_auto_flow": null,
            "grid_auto_rows": null,
            "grid_column": null,
            "grid_gap": null,
            "grid_row": null,
            "grid_template_areas": null,
            "grid_template_columns": null,
            "grid_template_rows": null,
            "height": null,
            "justify_content": null,
            "justify_items": null,
            "left": null,
            "margin": null,
            "max_height": null,
            "max_width": null,
            "min_height": null,
            "min_width": null,
            "object_fit": null,
            "object_position": null,
            "order": null,
            "overflow": null,
            "overflow_x": null,
            "overflow_y": null,
            "padding": null,
            "right": null,
            "top": null,
            "visibility": null,
            "width": null
          }
        },
        "9f087a91ec0c4032b52298d76efe3c40": {
          "model_module": "@jupyter-widgets/controls",
          "model_name": "ProgressStyleModel",
          "model_module_version": "1.5.0",
          "state": {
            "_model_module": "@jupyter-widgets/controls",
            "_model_module_version": "1.5.0",
            "_model_name": "ProgressStyleModel",
            "_view_count": null,
            "_view_module": "@jupyter-widgets/base",
            "_view_module_version": "1.2.0",
            "_view_name": "StyleView",
            "bar_color": null,
            "description_width": ""
          }
        },
        "bf7bc889cb4d4ad4a0f4104dae8c0c01": {
          "model_module": "@jupyter-widgets/base",
          "model_name": "LayoutModel",
          "model_module_version": "1.2.0",
          "state": {
            "_model_module": "@jupyter-widgets/base",
            "_model_module_version": "1.2.0",
            "_model_name": "LayoutModel",
            "_view_count": null,
            "_view_module": "@jupyter-widgets/base",
            "_view_module_version": "1.2.0",
            "_view_name": "LayoutView",
            "align_content": null,
            "align_items": null,
            "align_self": null,
            "border": null,
            "bottom": null,
            "display": null,
            "flex": null,
            "flex_flow": null,
            "grid_area": null,
            "grid_auto_columns": null,
            "grid_auto_flow": null,
            "grid_auto_rows": null,
            "grid_column": null,
            "grid_gap": null,
            "grid_row": null,
            "grid_template_areas": null,
            "grid_template_columns": null,
            "grid_template_rows": null,
            "height": null,
            "justify_content": null,
            "justify_items": null,
            "left": null,
            "margin": null,
            "max_height": null,
            "max_width": null,
            "min_height": null,
            "min_width": null,
            "object_fit": null,
            "object_position": null,
            "order": null,
            "overflow": null,
            "overflow_x": null,
            "overflow_y": null,
            "padding": null,
            "right": null,
            "top": null,
            "visibility": null,
            "width": null
          }
        },
        "9910d1fffa91411a9ce3e0f918c083ff": {
          "model_module": "@jupyter-widgets/controls",
          "model_name": "DescriptionStyleModel",
          "model_module_version": "1.5.0",
          "state": {
            "_model_module": "@jupyter-widgets/controls",
            "_model_module_version": "1.5.0",
            "_model_name": "DescriptionStyleModel",
            "_view_count": null,
            "_view_module": "@jupyter-widgets/base",
            "_view_module_version": "1.2.0",
            "_view_name": "StyleView",
            "description_width": ""
          }
        },
        "56939be0ffa444cfbaa7a08243d220a6": {
          "model_module": "@jupyter-widgets/controls",
          "model_name": "HBoxModel",
          "model_module_version": "1.5.0",
          "state": {
            "_dom_classes": [],
            "_model_module": "@jupyter-widgets/controls",
            "_model_module_version": "1.5.0",
            "_model_name": "HBoxModel",
            "_view_count": null,
            "_view_module": "@jupyter-widgets/controls",
            "_view_module_version": "1.5.0",
            "_view_name": "HBoxView",
            "box_style": "",
            "children": [
              "IPY_MODEL_05efa34f00f243aa8089912bed87cee0",
              "IPY_MODEL_a19fd781aac645af8c5c9d6b4712ccd4",
              "IPY_MODEL_499f05b8c2f24b39983c4c1782432c22"
            ],
            "layout": "IPY_MODEL_fa6f416b9ca8410792da1fdd64644b2c"
          }
        },
        "05efa34f00f243aa8089912bed87cee0": {
          "model_module": "@jupyter-widgets/controls",
          "model_name": "HTMLModel",
          "model_module_version": "1.5.0",
          "state": {
            "_dom_classes": [],
            "_model_module": "@jupyter-widgets/controls",
            "_model_module_version": "1.5.0",
            "_model_name": "HTMLModel",
            "_view_count": null,
            "_view_module": "@jupyter-widgets/controls",
            "_view_module_version": "1.5.0",
            "_view_name": "HTMLView",
            "description": "",
            "description_tooltip": null,
            "layout": "IPY_MODEL_599ff944e74e477a8746c2051b7fca34",
            "placeholder": "​",
            "style": "IPY_MODEL_010248f9e9cc4e4093a67b374281de82",
            "value": "vocab.txt: 100%"
          }
        },
        "a19fd781aac645af8c5c9d6b4712ccd4": {
          "model_module": "@jupyter-widgets/controls",
          "model_name": "FloatProgressModel",
          "model_module_version": "1.5.0",
          "state": {
            "_dom_classes": [],
            "_model_module": "@jupyter-widgets/controls",
            "_model_module_version": "1.5.0",
            "_model_name": "FloatProgressModel",
            "_view_count": null,
            "_view_module": "@jupyter-widgets/controls",
            "_view_module_version": "1.5.0",
            "_view_name": "ProgressView",
            "bar_style": "success",
            "description": "",
            "description_tooltip": null,
            "layout": "IPY_MODEL_e5bf86f1f7a540c1999e043b375aa6f6",
            "max": 231508,
            "min": 0,
            "orientation": "horizontal",
            "style": "IPY_MODEL_1257a4ae04b1405ebe9d19ed68465da4",
            "value": 231508
          }
        },
        "499f05b8c2f24b39983c4c1782432c22": {
          "model_module": "@jupyter-widgets/controls",
          "model_name": "HTMLModel",
          "model_module_version": "1.5.0",
          "state": {
            "_dom_classes": [],
            "_model_module": "@jupyter-widgets/controls",
            "_model_module_version": "1.5.0",
            "_model_name": "HTMLModel",
            "_view_count": null,
            "_view_module": "@jupyter-widgets/controls",
            "_view_module_version": "1.5.0",
            "_view_name": "HTMLView",
            "description": "",
            "description_tooltip": null,
            "layout": "IPY_MODEL_f451ede2473e4382a2273bb96425a671",
            "placeholder": "​",
            "style": "IPY_MODEL_76075ee7356546ad84f2d6f985413e80",
            "value": " 232k/232k [00:00&lt;00:00, 2.77MB/s]"
          }
        },
        "fa6f416b9ca8410792da1fdd64644b2c": {
          "model_module": "@jupyter-widgets/base",
          "model_name": "LayoutModel",
          "model_module_version": "1.2.0",
          "state": {
            "_model_module": "@jupyter-widgets/base",
            "_model_module_version": "1.2.0",
            "_model_name": "LayoutModel",
            "_view_count": null,
            "_view_module": "@jupyter-widgets/base",
            "_view_module_version": "1.2.0",
            "_view_name": "LayoutView",
            "align_content": null,
            "align_items": null,
            "align_self": null,
            "border": null,
            "bottom": null,
            "display": null,
            "flex": null,
            "flex_flow": null,
            "grid_area": null,
            "grid_auto_columns": null,
            "grid_auto_flow": null,
            "grid_auto_rows": null,
            "grid_column": null,
            "grid_gap": null,
            "grid_row": null,
            "grid_template_areas": null,
            "grid_template_columns": null,
            "grid_template_rows": null,
            "height": null,
            "justify_content": null,
            "justify_items": null,
            "left": null,
            "margin": null,
            "max_height": null,
            "max_width": null,
            "min_height": null,
            "min_width": null,
            "object_fit": null,
            "object_position": null,
            "order": null,
            "overflow": null,
            "overflow_x": null,
            "overflow_y": null,
            "padding": null,
            "right": null,
            "top": null,
            "visibility": null,
            "width": null
          }
        },
        "599ff944e74e477a8746c2051b7fca34": {
          "model_module": "@jupyter-widgets/base",
          "model_name": "LayoutModel",
          "model_module_version": "1.2.0",
          "state": {
            "_model_module": "@jupyter-widgets/base",
            "_model_module_version": "1.2.0",
            "_model_name": "LayoutModel",
            "_view_count": null,
            "_view_module": "@jupyter-widgets/base",
            "_view_module_version": "1.2.0",
            "_view_name": "LayoutView",
            "align_content": null,
            "align_items": null,
            "align_self": null,
            "border": null,
            "bottom": null,
            "display": null,
            "flex": null,
            "flex_flow": null,
            "grid_area": null,
            "grid_auto_columns": null,
            "grid_auto_flow": null,
            "grid_auto_rows": null,
            "grid_column": null,
            "grid_gap": null,
            "grid_row": null,
            "grid_template_areas": null,
            "grid_template_columns": null,
            "grid_template_rows": null,
            "height": null,
            "justify_content": null,
            "justify_items": null,
            "left": null,
            "margin": null,
            "max_height": null,
            "max_width": null,
            "min_height": null,
            "min_width": null,
            "object_fit": null,
            "object_position": null,
            "order": null,
            "overflow": null,
            "overflow_x": null,
            "overflow_y": null,
            "padding": null,
            "right": null,
            "top": null,
            "visibility": null,
            "width": null
          }
        },
        "010248f9e9cc4e4093a67b374281de82": {
          "model_module": "@jupyter-widgets/controls",
          "model_name": "DescriptionStyleModel",
          "model_module_version": "1.5.0",
          "state": {
            "_model_module": "@jupyter-widgets/controls",
            "_model_module_version": "1.5.0",
            "_model_name": "DescriptionStyleModel",
            "_view_count": null,
            "_view_module": "@jupyter-widgets/base",
            "_view_module_version": "1.2.0",
            "_view_name": "StyleView",
            "description_width": ""
          }
        },
        "e5bf86f1f7a540c1999e043b375aa6f6": {
          "model_module": "@jupyter-widgets/base",
          "model_name": "LayoutModel",
          "model_module_version": "1.2.0",
          "state": {
            "_model_module": "@jupyter-widgets/base",
            "_model_module_version": "1.2.0",
            "_model_name": "LayoutModel",
            "_view_count": null,
            "_view_module": "@jupyter-widgets/base",
            "_view_module_version": "1.2.0",
            "_view_name": "LayoutView",
            "align_content": null,
            "align_items": null,
            "align_self": null,
            "border": null,
            "bottom": null,
            "display": null,
            "flex": null,
            "flex_flow": null,
            "grid_area": null,
            "grid_auto_columns": null,
            "grid_auto_flow": null,
            "grid_auto_rows": null,
            "grid_column": null,
            "grid_gap": null,
            "grid_row": null,
            "grid_template_areas": null,
            "grid_template_columns": null,
            "grid_template_rows": null,
            "height": null,
            "justify_content": null,
            "justify_items": null,
            "left": null,
            "margin": null,
            "max_height": null,
            "max_width": null,
            "min_height": null,
            "min_width": null,
            "object_fit": null,
            "object_position": null,
            "order": null,
            "overflow": null,
            "overflow_x": null,
            "overflow_y": null,
            "padding": null,
            "right": null,
            "top": null,
            "visibility": null,
            "width": null
          }
        },
        "1257a4ae04b1405ebe9d19ed68465da4": {
          "model_module": "@jupyter-widgets/controls",
          "model_name": "ProgressStyleModel",
          "model_module_version": "1.5.0",
          "state": {
            "_model_module": "@jupyter-widgets/controls",
            "_model_module_version": "1.5.0",
            "_model_name": "ProgressStyleModel",
            "_view_count": null,
            "_view_module": "@jupyter-widgets/base",
            "_view_module_version": "1.2.0",
            "_view_name": "StyleView",
            "bar_color": null,
            "description_width": ""
          }
        },
        "f451ede2473e4382a2273bb96425a671": {
          "model_module": "@jupyter-widgets/base",
          "model_name": "LayoutModel",
          "model_module_version": "1.2.0",
          "state": {
            "_model_module": "@jupyter-widgets/base",
            "_model_module_version": "1.2.0",
            "_model_name": "LayoutModel",
            "_view_count": null,
            "_view_module": "@jupyter-widgets/base",
            "_view_module_version": "1.2.0",
            "_view_name": "LayoutView",
            "align_content": null,
            "align_items": null,
            "align_self": null,
            "border": null,
            "bottom": null,
            "display": null,
            "flex": null,
            "flex_flow": null,
            "grid_area": null,
            "grid_auto_columns": null,
            "grid_auto_flow": null,
            "grid_auto_rows": null,
            "grid_column": null,
            "grid_gap": null,
            "grid_row": null,
            "grid_template_areas": null,
            "grid_template_columns": null,
            "grid_template_rows": null,
            "height": null,
            "justify_content": null,
            "justify_items": null,
            "left": null,
            "margin": null,
            "max_height": null,
            "max_width": null,
            "min_height": null,
            "min_width": null,
            "object_fit": null,
            "object_position": null,
            "order": null,
            "overflow": null,
            "overflow_x": null,
            "overflow_y": null,
            "padding": null,
            "right": null,
            "top": null,
            "visibility": null,
            "width": null
          }
        },
        "76075ee7356546ad84f2d6f985413e80": {
          "model_module": "@jupyter-widgets/controls",
          "model_name": "DescriptionStyleModel",
          "model_module_version": "1.5.0",
          "state": {
            "_model_module": "@jupyter-widgets/controls",
            "_model_module_version": "1.5.0",
            "_model_name": "DescriptionStyleModel",
            "_view_count": null,
            "_view_module": "@jupyter-widgets/base",
            "_view_module_version": "1.2.0",
            "_view_name": "StyleView",
            "description_width": ""
          }
        },
        "447730e21bca4b5ebacb7f8eb340a5cd": {
          "model_module": "@jupyter-widgets/controls",
          "model_name": "HBoxModel",
          "model_module_version": "1.5.0",
          "state": {
            "_dom_classes": [],
            "_model_module": "@jupyter-widgets/controls",
            "_model_module_version": "1.5.0",
            "_model_name": "HBoxModel",
            "_view_count": null,
            "_view_module": "@jupyter-widgets/controls",
            "_view_module_version": "1.5.0",
            "_view_name": "HBoxView",
            "box_style": "",
            "children": [
              "IPY_MODEL_3d42ce4e85b44b38b84fbb16e8a63e4f",
              "IPY_MODEL_bc7371290d4144858b687ef002f2a595",
              "IPY_MODEL_31c396d1b81546f58ca6caf2bfbbf93c"
            ],
            "layout": "IPY_MODEL_3b235c84bb8e4c1fbf449e064f5b2037"
          }
        },
        "3d42ce4e85b44b38b84fbb16e8a63e4f": {
          "model_module": "@jupyter-widgets/controls",
          "model_name": "HTMLModel",
          "model_module_version": "1.5.0",
          "state": {
            "_dom_classes": [],
            "_model_module": "@jupyter-widgets/controls",
            "_model_module_version": "1.5.0",
            "_model_name": "HTMLModel",
            "_view_count": null,
            "_view_module": "@jupyter-widgets/controls",
            "_view_module_version": "1.5.0",
            "_view_name": "HTMLView",
            "description": "",
            "description_tooltip": null,
            "layout": "IPY_MODEL_fb4cb4b0ed5e4359a5ac39cda7755115",
            "placeholder": "​",
            "style": "IPY_MODEL_b1a6a8fb12d3498c8ec9c92f2ced6d96",
            "value": "tokenizer.json: 100%"
          }
        },
        "bc7371290d4144858b687ef002f2a595": {
          "model_module": "@jupyter-widgets/controls",
          "model_name": "FloatProgressModel",
          "model_module_version": "1.5.0",
          "state": {
            "_dom_classes": [],
            "_model_module": "@jupyter-widgets/controls",
            "_model_module_version": "1.5.0",
            "_model_name": "FloatProgressModel",
            "_view_count": null,
            "_view_module": "@jupyter-widgets/controls",
            "_view_module_version": "1.5.0",
            "_view_name": "ProgressView",
            "bar_style": "success",
            "description": "",
            "description_tooltip": null,
            "layout": "IPY_MODEL_2e6dbf829624476ead670f784de8f775",
            "max": 466062,
            "min": 0,
            "orientation": "horizontal",
            "style": "IPY_MODEL_b5c56c98a86f4e038c45b75153ff8afb",
            "value": 466062
          }
        },
        "31c396d1b81546f58ca6caf2bfbbf93c": {
          "model_module": "@jupyter-widgets/controls",
          "model_name": "HTMLModel",
          "model_module_version": "1.5.0",
          "state": {
            "_dom_classes": [],
            "_model_module": "@jupyter-widgets/controls",
            "_model_module_version": "1.5.0",
            "_model_name": "HTMLModel",
            "_view_count": null,
            "_view_module": "@jupyter-widgets/controls",
            "_view_module_version": "1.5.0",
            "_view_name": "HTMLView",
            "description": "",
            "description_tooltip": null,
            "layout": "IPY_MODEL_4e89bbcbcc914fd9b127a254b8e73ac3",
            "placeholder": "​",
            "style": "IPY_MODEL_6f4d33b2a1374fd29f4dfafdd00206a2",
            "value": " 466k/466k [00:00&lt;00:00, 2.24MB/s]"
          }
        },
        "3b235c84bb8e4c1fbf449e064f5b2037": {
          "model_module": "@jupyter-widgets/base",
          "model_name": "LayoutModel",
          "model_module_version": "1.2.0",
          "state": {
            "_model_module": "@jupyter-widgets/base",
            "_model_module_version": "1.2.0",
            "_model_name": "LayoutModel",
            "_view_count": null,
            "_view_module": "@jupyter-widgets/base",
            "_view_module_version": "1.2.0",
            "_view_name": "LayoutView",
            "align_content": null,
            "align_items": null,
            "align_self": null,
            "border": null,
            "bottom": null,
            "display": null,
            "flex": null,
            "flex_flow": null,
            "grid_area": null,
            "grid_auto_columns": null,
            "grid_auto_flow": null,
            "grid_auto_rows": null,
            "grid_column": null,
            "grid_gap": null,
            "grid_row": null,
            "grid_template_areas": null,
            "grid_template_columns": null,
            "grid_template_rows": null,
            "height": null,
            "justify_content": null,
            "justify_items": null,
            "left": null,
            "margin": null,
            "max_height": null,
            "max_width": null,
            "min_height": null,
            "min_width": null,
            "object_fit": null,
            "object_position": null,
            "order": null,
            "overflow": null,
            "overflow_x": null,
            "overflow_y": null,
            "padding": null,
            "right": null,
            "top": null,
            "visibility": null,
            "width": null
          }
        },
        "fb4cb4b0ed5e4359a5ac39cda7755115": {
          "model_module": "@jupyter-widgets/base",
          "model_name": "LayoutModel",
          "model_module_version": "1.2.0",
          "state": {
            "_model_module": "@jupyter-widgets/base",
            "_model_module_version": "1.2.0",
            "_model_name": "LayoutModel",
            "_view_count": null,
            "_view_module": "@jupyter-widgets/base",
            "_view_module_version": "1.2.0",
            "_view_name": "LayoutView",
            "align_content": null,
            "align_items": null,
            "align_self": null,
            "border": null,
            "bottom": null,
            "display": null,
            "flex": null,
            "flex_flow": null,
            "grid_area": null,
            "grid_auto_columns": null,
            "grid_auto_flow": null,
            "grid_auto_rows": null,
            "grid_column": null,
            "grid_gap": null,
            "grid_row": null,
            "grid_template_areas": null,
            "grid_template_columns": null,
            "grid_template_rows": null,
            "height": null,
            "justify_content": null,
            "justify_items": null,
            "left": null,
            "margin": null,
            "max_height": null,
            "max_width": null,
            "min_height": null,
            "min_width": null,
            "object_fit": null,
            "object_position": null,
            "order": null,
            "overflow": null,
            "overflow_x": null,
            "overflow_y": null,
            "padding": null,
            "right": null,
            "top": null,
            "visibility": null,
            "width": null
          }
        },
        "b1a6a8fb12d3498c8ec9c92f2ced6d96": {
          "model_module": "@jupyter-widgets/controls",
          "model_name": "DescriptionStyleModel",
          "model_module_version": "1.5.0",
          "state": {
            "_model_module": "@jupyter-widgets/controls",
            "_model_module_version": "1.5.0",
            "_model_name": "DescriptionStyleModel",
            "_view_count": null,
            "_view_module": "@jupyter-widgets/base",
            "_view_module_version": "1.2.0",
            "_view_name": "StyleView",
            "description_width": ""
          }
        },
        "2e6dbf829624476ead670f784de8f775": {
          "model_module": "@jupyter-widgets/base",
          "model_name": "LayoutModel",
          "model_module_version": "1.2.0",
          "state": {
            "_model_module": "@jupyter-widgets/base",
            "_model_module_version": "1.2.0",
            "_model_name": "LayoutModel",
            "_view_count": null,
            "_view_module": "@jupyter-widgets/base",
            "_view_module_version": "1.2.0",
            "_view_name": "LayoutView",
            "align_content": null,
            "align_items": null,
            "align_self": null,
            "border": null,
            "bottom": null,
            "display": null,
            "flex": null,
            "flex_flow": null,
            "grid_area": null,
            "grid_auto_columns": null,
            "grid_auto_flow": null,
            "grid_auto_rows": null,
            "grid_column": null,
            "grid_gap": null,
            "grid_row": null,
            "grid_template_areas": null,
            "grid_template_columns": null,
            "grid_template_rows": null,
            "height": null,
            "justify_content": null,
            "justify_items": null,
            "left": null,
            "margin": null,
            "max_height": null,
            "max_width": null,
            "min_height": null,
            "min_width": null,
            "object_fit": null,
            "object_position": null,
            "order": null,
            "overflow": null,
            "overflow_x": null,
            "overflow_y": null,
            "padding": null,
            "right": null,
            "top": null,
            "visibility": null,
            "width": null
          }
        },
        "b5c56c98a86f4e038c45b75153ff8afb": {
          "model_module": "@jupyter-widgets/controls",
          "model_name": "ProgressStyleModel",
          "model_module_version": "1.5.0",
          "state": {
            "_model_module": "@jupyter-widgets/controls",
            "_model_module_version": "1.5.0",
            "_model_name": "ProgressStyleModel",
            "_view_count": null,
            "_view_module": "@jupyter-widgets/base",
            "_view_module_version": "1.2.0",
            "_view_name": "StyleView",
            "bar_color": null,
            "description_width": ""
          }
        },
        "4e89bbcbcc914fd9b127a254b8e73ac3": {
          "model_module": "@jupyter-widgets/base",
          "model_name": "LayoutModel",
          "model_module_version": "1.2.0",
          "state": {
            "_model_module": "@jupyter-widgets/base",
            "_model_module_version": "1.2.0",
            "_model_name": "LayoutModel",
            "_view_count": null,
            "_view_module": "@jupyter-widgets/base",
            "_view_module_version": "1.2.0",
            "_view_name": "LayoutView",
            "align_content": null,
            "align_items": null,
            "align_self": null,
            "border": null,
            "bottom": null,
            "display": null,
            "flex": null,
            "flex_flow": null,
            "grid_area": null,
            "grid_auto_columns": null,
            "grid_auto_flow": null,
            "grid_auto_rows": null,
            "grid_column": null,
            "grid_gap": null,
            "grid_row": null,
            "grid_template_areas": null,
            "grid_template_columns": null,
            "grid_template_rows": null,
            "height": null,
            "justify_content": null,
            "justify_items": null,
            "left": null,
            "margin": null,
            "max_height": null,
            "max_width": null,
            "min_height": null,
            "min_width": null,
            "object_fit": null,
            "object_position": null,
            "order": null,
            "overflow": null,
            "overflow_x": null,
            "overflow_y": null,
            "padding": null,
            "right": null,
            "top": null,
            "visibility": null,
            "width": null
          }
        },
        "6f4d33b2a1374fd29f4dfafdd00206a2": {
          "model_module": "@jupyter-widgets/controls",
          "model_name": "DescriptionStyleModel",
          "model_module_version": "1.5.0",
          "state": {
            "_model_module": "@jupyter-widgets/controls",
            "_model_module_version": "1.5.0",
            "_model_name": "DescriptionStyleModel",
            "_view_count": null,
            "_view_module": "@jupyter-widgets/base",
            "_view_module_version": "1.2.0",
            "_view_name": "StyleView",
            "description_width": ""
          }
        }
      }
    }
  },
  "nbformat": 4,
  "nbformat_minor": 0
}
